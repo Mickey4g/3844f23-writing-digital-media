{
 "cells": [
  {
   "cell_type": "markdown",
   "metadata": {},
   "source": [
    "<header style=\"max-width: 720px; margin: auto;\">\n",
    "  <div style=\"flex: 1 1 746px;object-fit:cover;width:100%;height:100%\">\n",
    "    <img src=\"images/logo/engl3844-banner.png\" style=\"margin-top:2.75px;object-fit:cover;width:100%;height:100%\">\n",
    "  </div>\n",
    "  \n",
    "  <div style=\"flex: 2 1 320px;background: #febe00;border-bottom: 9px solid #FC5F1C;margin-top:-1px;margin-left:-0.25px\">\n",
    "    <section class=\"speaker-section\">\n",
    "      <article class=\"speaker-card\">\n",
    "        <div class=\"img-container\"><img style=\"border-radius: 50%; max-width: 150px; margin: 5px 5px 5px 15px; height: auto; float: right;\" src=\"https://www.clndgrn.com/authors/admin/avatar_hu2271e618186e12b2bcb843bb0ef95bb5_2514168_270x270_fill_q75_lanczos_center.jpg\" /></div>\n",
    "        <div class=\"speaker-content\" style=\"background: #febe00;\">\n",
    "          <div class=\"speaker-bio\" style=\"text-align: right;\">\n",
    "            <h3>Dr. Chris Lindgren</h3>\n",
    "            <p>Assistant Professor of Technical Communication &amp; Data Visualization</p>\n",
    "            <p><a href=\"https://www.clndgrn.com/\" target=\"_blank\" rel=\"noopener\">clndgrn.com</a></p>\n",
    "          </div>\n",
    "          <div class=\"contact-info\" style=\"list-style-type: none; margin: 0; padding: 0;\">\n",
    "            <ul style=\"padding: 1rem;margin-left:1rem;\">\n",
    "              <li><strong>Class Time:</strong> Online Asynchronous</li>\n",
    "              <li><strong>Office</strong>: Shanks Hall, 207</li>\n",
    "              <li><strong>Office Hours</strong>: Thursdays, 10:00am-11:00am or by appointment.</li>\n",
    "              <li><strong>Classroom</strong>: Online</li>\n",
    "              <li><strong>Zoom (if needed)</strong>: <a href=\"https://virginiatech.zoom.us/j/89683241192?pwd=YU9LTVNUbjhTRVowUlFYM1hxU3lzQT09\" target=\"_blank\" rel=\"noopenner\"></a></li>\n",
    "            </ul>\n",
    "          </div>\n",
    "        </div>\n",
    "      </article>\n",
    "    </section>\n",
    "  </div>\n",
    "</header>"
   ]
  },
  {
   "cell_type": "markdown",
   "metadata": {},
   "source": [
    "<main style=\"max-width:720px; margin:auto;\">\n",
    "\n",
    "# ENGL 3844 - Writing and *Writing With Large Language Models*\n",
    "\n",
    "<small>OG Design by [Melanie Walsh](https://melaniewalsh.org/) // Modified design and content by [Chris Lindgren](https://clndgrn.com) // Powered by [Jupyter Book](https://jupyterbook.org/)</small>\n",
    "\n",
    "## Welcome!\n",
    "\n",
    "Welcome to the online textbook for *Writing &amp; Digital Media*! This course blends applied skills with the opportunity to engage ethical discussions about writing and its relationships with digital media; especially as it pertains to digital data and computation—the two pillars of 21st century digital media that have built on the history of writing itself.\n",
    "\n",
    "## Purpose of the Book\n",
    "\n",
    "We will use this book to demonstrate how the Python programming language can be used to study texts and images, such as data scientists' documentation of their notebook projects, jeopardy questions, amazon reviews, and newspaper articles. Students will be introduced to computational methods such as exploratory data analysis (EDA), keyword analyses, and machine-learning methods that classify text and enable textual search of images. The ultimate goal is to not simply learn the mechanics of these analytical methods. Instead, this course asks you to critically learn, conduct, and play with these computational methods to expose the relationships between writing, code, data, and various digital media, as well as ethical issues and boundaries that should be considered when using the particular data.\n",
    "\n",
    "## Interactive Code <i class=\"fa fa-rocket\" aria-hidden=\"true\"></i>\n",
    "\n",
    "This book's pages contain Python code that can be opened and run in a web browser without any prior installation or configuration. Click the launch button <i class=\"fa fa-rocket\" aria-hidden=\"true\"></i> in the top right corner of any page to open and play with the code. See {doc}`How To Interact With This Book <How-To-Interact-With-This-Book>` for more information.\n",
    "\n",
    "## Acknowledgments\n",
    "\n",
    "A significant portion of this textbook was all thanks to Melanie Walsh's OG, *Introduction to Cultural Analytics*. Thank you!\n",
    "\n",
    "I also need to shout out to the computational rhetoricians who created `docuscospacy`! Thank you!\n",
    "\n",
    "## Suggested Citation\n",
    "\n",
    "> Lindgren, Chris A. (2023). *Writing &amp; Digital Media - Writing With Large Language Models*, Version 1, [Link TBA]().\n",
    "> See the OG: Melanie Walsh, *Introduction to Cultural Analytics & Python*, Version 1 (2021), [https://doi.org/10.5281/zenodo.4411250](https://doi.org/10.5281/zenodo.4411250).\n",
    "\n",
    "## Support the Project\n",
    "\n",
    "Be sure to support Melanie's original version. You can do so via [buy me a coffee ☕](https://www.buymeacoffee.com/melaniewalsh).\n",
    "\n",
    "You can [buy me a coffee](https://www.buymeacoffee.com/chrisalindgren) too, if you'd like.\n",
    "</main>"
   ]
  }
 ],
 "metadata": {
  "kernelspec": {
   "display_name": "Python 3",
   "language": "python",
   "name": "python3"
  },
  "language_info": {
   "codemirror_mode": {
    "name": "ipython",
    "version": 3
   },
   "file_extension": ".py",
   "mimetype": "text/x-python",
   "name": "python",
   "nbconvert_exporter": "python",
   "pygments_lexer": "ipython3",
   "version": "3.8.8"
  }
 },
 "nbformat": 4,
 "nbformat_minor": 4
}
