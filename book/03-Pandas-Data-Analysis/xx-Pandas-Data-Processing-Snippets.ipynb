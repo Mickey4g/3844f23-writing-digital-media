{
 "cells": [
  {
   "cell_type": "markdown",
   "metadata": {},
   "source": [
    "# Recurrent Pandas Dataframe Manipulation Code"
   ]
  },
  {
   "cell_type": "markdown",
   "metadata": {},
   "source": [
    "## Conversions of Data Types/Structures"
   ]
  },
  {
   "cell_type": "markdown",
   "metadata": {},
   "source": [
    "- List of lists `[[]]` --> DF\n",
    "    ```python\n",
    "    df=pd.DataFrame(list(your_list_of_lists),columns=['column 1','column 2','column3'])\n",
    "    ```\n",
    "- Ensure a data frame column is of a certain data type. In thise case, a `float`.\n",
    "    ```python\n",
    "    df['column_name'] = df['column_name'].astype(float)\n",
    "    ```\n",
    "- DF --> List of Dictionary Values\n",
    "    ```python\n",
    "    dict_vals = df.to_dict(orient='records')\n",
    "    ```\n",
    "    Which takes a DF like so, <img src=\"./../images/common-pandas-df-to_dict.png\" width=75px>, and converts to a list of dictionaries: `[{\"name\":\"rita\",\"age\":23}, {\"name\":\"gita\",\"age\":45}]`\n",
    "- List of Dictionary Values --> DF\n",
    "    ```python\n",
    "        dict_values = {'mrr':0.4,'map':0.3,'precision':0.6}\n",
    "\n",
    "        df_now = pd.DataFrame(\n",
    "        list(my_dict.items()),\n",
    "        columns=['metric','value']\n",
    "        )\n",
    "\n",
    "        df_now\n",
    "        metric     value\n",
    "        0   mrr         0.4\n",
    "        1   map         0.3\n",
    "        2   precision   0.6\n",
    "    ```"
   ]
  },
  {
   "cell_type": "markdown",
   "metadata": {},
   "source": [
    "## Aggregating, Grouping, Searching/Filtering"
   ]
  },
  {
   "cell_type": "markdown",
   "metadata": {},
   "source": [
    "## Group by a column and keep the column afterwards\n",
    "\n",
    "```python\n",
    "df.groupby(['column_name']).aggregate_function().reset_index()\n",
    "```"
   ]
  },
  {
   "cell_type": "markdown",
   "metadata": {},
   "source": [
    "### Select rows matching a specific column criteria\n",
    "\n",
    "Find rows where the column value matches a specific constraint.\n",
    "\n",
    "```python\n",
    "df_search = df[ (df['column1'] <= 2) & (df['column2'] <= 3) ]\n",
    "```"
   ]
  }
 ],
 "metadata": {
  "language_info": {
   "name": "python"
  },
  "orig_nbformat": 4
 },
 "nbformat": 4,
 "nbformat_minor": 2
}
