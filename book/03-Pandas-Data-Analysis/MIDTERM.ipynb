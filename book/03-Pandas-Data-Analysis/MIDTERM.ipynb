{
 "cells": [
  {
   "cell_type": "markdown",
   "metadata": {},
   "source": [
    "# Midterm"
   ]
  },
  {
   "cell_type": "markdown",
   "metadata": {},
   "source": [
    "Ok, we've reviewed a lot so far, so before we continue onto more specific kinds of analysis, using LLMs, and machine learning, complete this notebook that builds on the lessons in this series on pandas and EDA."
   ]
  },
  {
   "cell_type": "markdown",
   "metadata": {},
   "source": [
    "___"
   ]
  },
  {
   "cell_type": "markdown",
   "metadata": {},
   "source": [
    "## Dataset\n",
    "### *The Pudding*'s Film Dialogue Data"
   ]
  },
  {
   "cell_type": "markdown",
   "metadata": {},
   "source": [
    "The dataset that we're working with in this lesson is taken from Hannah Andersen and Matt Daniels's *Pudding* essay, [\"Film Dialogue from 2,000 screenplays, Broken Down by Gender and Age\"](https://pudding.cool/2017/03/film-dialogue/). The dataset provides information about 2,000 films from 1925 to 2015, including characters’ names, genders, ages, how many words each character spoke in each film, the release year of each film, and how much money the film grossed. They included character gender information because they wanted to contribute data to a broader conversation about how \"white men dominate movie roles.\""
   ]
  },
  {
   "cell_type": "markdown",
   "metadata": {},
   "source": [
    "___"
   ]
  },
  {
   "cell_type": "markdown",
   "metadata": {},
   "source": [
    "## Import Pandas"
   ]
  },
  {
   "cell_type": "code",
   "execution_count": 74,
   "metadata": {},
   "outputs": [],
   "source": [
    "import pandas as pd\n",
    "pd.options.display.max_rows = 200"
   ]
  },
  {
   "cell_type": "markdown",
   "metadata": {},
   "source": [
    "## Import the Data"
   ]
  },
  {
   "cell_type": "code",
   "execution_count": 75,
   "metadata": {},
   "outputs": [],
   "source": [
    "film_df = pd.read_csv('../data/Pudding/Pudding-Film-Dialogue-Clean.csv', delimiter=\",\", encoding='utf-8')"
   ]
  },
  {
   "cell_type": "markdown",
   "metadata": {},
   "source": [
    "## Overview\n",
    "\n",
    "To look at a random *n* number of rows in a DataFrame, we can use a method called `.sample()`."
   ]
  },
  {
   "cell_type": "code",
   "execution_count": 76,
   "metadata": {},
   "outputs": [
    {
     "data": {
      "text/html": [
       "<div>\n",
       "<style scoped>\n",
       "    .dataframe tbody tr th:only-of-type {\n",
       "        vertical-align: middle;\n",
       "    }\n",
       "\n",
       "    .dataframe tbody tr th {\n",
       "        vertical-align: top;\n",
       "    }\n",
       "\n",
       "    .dataframe thead th {\n",
       "        text-align: right;\n",
       "    }\n",
       "</style>\n",
       "<table border=\"1\" class=\"dataframe\">\n",
       "  <thead>\n",
       "    <tr style=\"text-align: right;\">\n",
       "      <th></th>\n",
       "      <th>title</th>\n",
       "      <th>release_year</th>\n",
       "      <th>character</th>\n",
       "      <th>gender</th>\n",
       "      <th>words</th>\n",
       "      <th>proportion_of_dialogue</th>\n",
       "      <th>age</th>\n",
       "      <th>gross</th>\n",
       "      <th>script_id</th>\n",
       "    </tr>\n",
       "  </thead>\n",
       "  <tbody>\n",
       "    <tr>\n",
       "      <th>4325</th>\n",
       "      <td>Assassins</td>\n",
       "      <td>1995</td>\n",
       "      <td>Electra</td>\n",
       "      <td>woman</td>\n",
       "      <td>4004</td>\n",
       "      <td>0.237513</td>\n",
       "      <td>35.0</td>\n",
       "      <td>60.0</td>\n",
       "      <td>1705</td>\n",
       "    </tr>\n",
       "    <tr>\n",
       "      <th>19987</th>\n",
       "      <td>Selma</td>\n",
       "      <td>2014</td>\n",
       "      <td>James Orange</td>\n",
       "      <td>man</td>\n",
       "      <td>101</td>\n",
       "      <td>0.007501</td>\n",
       "      <td>39.0</td>\n",
       "      <td>55.0</td>\n",
       "      <td>7709</td>\n",
       "    </tr>\n",
       "    <tr>\n",
       "      <th>12934</th>\n",
       "      <td>The General's Daughter</td>\n",
       "      <td>1999</td>\n",
       "      <td>Warr. Off. Paul</td>\n",
       "      <td>man</td>\n",
       "      <td>4338</td>\n",
       "      <td>0.384200</td>\n",
       "      <td>45.0</td>\n",
       "      <td>176.0</td>\n",
       "      <td>4259</td>\n",
       "    </tr>\n",
       "    <tr>\n",
       "      <th>14323</th>\n",
       "      <td>The Number 23</td>\n",
       "      <td>2007</td>\n",
       "      <td>Robin Sparrow</td>\n",
       "      <td>man</td>\n",
       "      <td>325</td>\n",
       "      <td>0.048320</td>\n",
       "      <td>15.0</td>\n",
       "      <td>44.0</td>\n",
       "      <td>4727</td>\n",
       "    </tr>\n",
       "    <tr>\n",
       "      <th>8604</th>\n",
       "      <td>Lost in Translation</td>\n",
       "      <td>2003</td>\n",
       "      <td>Lydia Harris</td>\n",
       "      <td>woman</td>\n",
       "      <td>275</td>\n",
       "      <td>0.067319</td>\n",
       "      <td>NaN</td>\n",
       "      <td>64.0</td>\n",
       "      <td>2812</td>\n",
       "    </tr>\n",
       "    <tr>\n",
       "      <th>1668</th>\n",
       "      <td>Independence Day</td>\n",
       "      <td>1996</td>\n",
       "      <td>Russell Casse</td>\n",
       "      <td>man</td>\n",
       "      <td>268</td>\n",
       "      <td>0.044290</td>\n",
       "      <td>46.0</td>\n",
       "      <td>602.0</td>\n",
       "      <td>1030</td>\n",
       "    </tr>\n",
       "    <tr>\n",
       "      <th>152</th>\n",
       "      <td>Ali</td>\n",
       "      <td>2001</td>\n",
       "      <td>Malcolm X</td>\n",
       "      <td>man</td>\n",
       "      <td>662</td>\n",
       "      <td>0.073547</td>\n",
       "      <td>44.0</td>\n",
       "      <td>89.0</td>\n",
       "      <td>653</td>\n",
       "    </tr>\n",
       "    <tr>\n",
       "      <th>11365</th>\n",
       "      <td>Valentine's Day</td>\n",
       "      <td>2010</td>\n",
       "      <td>Morley Clarkson</td>\n",
       "      <td>woman</td>\n",
       "      <td>252</td>\n",
       "      <td>0.030527</td>\n",
       "      <td>29.0</td>\n",
       "      <td>121.0</td>\n",
       "      <td>3649</td>\n",
       "    </tr>\n",
       "    <tr>\n",
       "      <th>3497</th>\n",
       "      <td>The Wild Bunch</td>\n",
       "      <td>1969</td>\n",
       "      <td>Coffer</td>\n",
       "      <td>man</td>\n",
       "      <td>375</td>\n",
       "      <td>0.042306</td>\n",
       "      <td>50.0</td>\n",
       "      <td>NaN</td>\n",
       "      <td>1475</td>\n",
       "    </tr>\n",
       "    <tr>\n",
       "      <th>10701</th>\n",
       "      <td>Sugar</td>\n",
       "      <td>2008</td>\n",
       "      <td>Jeff</td>\n",
       "      <td>man</td>\n",
       "      <td>654</td>\n",
       "      <td>0.042728</td>\n",
       "      <td>NaN</td>\n",
       "      <td>1.0</td>\n",
       "      <td>3462</td>\n",
       "    </tr>\n",
       "  </tbody>\n",
       "</table>\n",
       "</div>"
      ],
      "text/plain": [
       "                        title  release_year        character gender  words  \\\n",
       "4325                Assassins          1995          Electra  woman   4004   \n",
       "19987                   Selma          2014     James Orange    man    101   \n",
       "12934  The General's Daughter          1999  Warr. Off. Paul    man   4338   \n",
       "14323           The Number 23          2007    Robin Sparrow    man    325   \n",
       "8604      Lost in Translation          2003     Lydia Harris  woman    275   \n",
       "1668         Independence Day          1996    Russell Casse    man    268   \n",
       "152                       Ali          2001        Malcolm X    man    662   \n",
       "11365         Valentine's Day          2010  Morley Clarkson  woman    252   \n",
       "3497           The Wild Bunch          1969           Coffer    man    375   \n",
       "10701                   Sugar          2008             Jeff    man    654   \n",
       "\n",
       "       proportion_of_dialogue   age  gross  script_id  \n",
       "4325                 0.237513  35.0   60.0       1705  \n",
       "19987                0.007501  39.0   55.0       7709  \n",
       "12934                0.384200  45.0  176.0       4259  \n",
       "14323                0.048320  15.0   44.0       4727  \n",
       "8604                 0.067319   NaN   64.0       2812  \n",
       "1668                 0.044290  46.0  602.0       1030  \n",
       "152                  0.073547  44.0   89.0        653  \n",
       "11365                0.030527  29.0  121.0       3649  \n",
       "3497                 0.042306  50.0    NaN       1475  \n",
       "10701                0.042728   NaN    1.0       3462  "
      ]
     },
     "execution_count": 76,
     "metadata": {},
     "output_type": "execute_result"
    }
   ],
   "source": [
    "film_df.sample(10)"
   ]
  },
  {
   "cell_type": "markdown",
   "metadata": {},
   "source": [
    "Generate information about all the columns in the data "
   ]
  },
  {
   "cell_type": "code",
   "execution_count": 77,
   "metadata": {},
   "outputs": [
    {
     "name": "stdout",
     "output_type": "stream",
     "text": [
      "<class 'pandas.core.frame.DataFrame'>\n",
      "RangeIndex: 23047 entries, 0 to 23046\n",
      "Data columns (total 9 columns):\n",
      " #   Column                  Non-Null Count  Dtype  \n",
      "---  ------                  --------------  -----  \n",
      " 0   title                   23047 non-null  object \n",
      " 1   release_year            23047 non-null  int64  \n",
      " 2   character               23047 non-null  object \n",
      " 3   gender                  23047 non-null  object \n",
      " 4   words                   23047 non-null  int64  \n",
      " 5   proportion_of_dialogue  23047 non-null  float64\n",
      " 6   age                     18262 non-null  float64\n",
      " 7   gross                   19386 non-null  float64\n",
      " 8   script_id               23047 non-null  int64  \n",
      "dtypes: float64(3), int64(3), object(3)\n",
      "memory usage: 1.6+ MB\n"
     ]
    }
   ],
   "source": [
    "film_df.info()"
   ]
  },
  {
   "cell_type": "markdown",
   "metadata": {},
   "source": [
    "Just like Python has different data types, Pandas has different data types, too. These data types are automatically assigned to columns when we read in a CSV file. We can check these Pandas data types with the [`.dtypes` method](https://pandas.pydata.org/pandas-docs/stable/reference/api/pandas.DataFrame.dtypes.html)."
   ]
  },
  {
   "cell_type": "markdown",
   "metadata": {},
   "source": [
    "\n",
    "\n",
    "| **Pandas Data Type** |  **Explanation**                                                                                   |\n",
    "|:-------------:|:---------------------------------------------------------------------------------------------------:|\n",
    "| `object`         | string                                                                               |\n",
    "| `float64`         | float                                               |\n",
    "| `int64`       | integer                                                        |\n",
    "| `datetime64`       |  date time              "
   ]
  },
  {
   "cell_type": "markdown",
   "metadata": {},
   "source": [
    "Make a histogram of the DataFrame"
   ]
  },
  {
   "cell_type": "code",
   "execution_count": 78,
   "metadata": {},
   "outputs": [
    {
     "data": {
      "text/plain": [
       "array([[<Axes: title={'center': 'release_year'}>,\n",
       "        <Axes: title={'center': 'words'}>],\n",
       "       [<Axes: title={'center': 'proportion_of_dialogue'}>,\n",
       "        <Axes: title={'center': 'age'}>],\n",
       "       [<Axes: title={'center': 'gross'}>,\n",
       "        <Axes: title={'center': 'script_id'}>]], dtype=object)"
      ]
     },
     "execution_count": 78,
     "metadata": {},
     "output_type": "execute_result"
    },
    {
     "data": {
      "image/png": "[encoded data removed]",
      "text/plain": [
       "<Figure size 1000x1000 with 6 Axes>"
      ]
     },
     "metadata": {},
     "output_type": "display_data"
    }
   ],
   "source": [
    "film_df.hist(figsize=(10,10))"
   ]
  },
  {
   "cell_type": "markdown",
   "metadata": {},
   "source": [
    "Generate descriptive statistics for all the columns in the data "
   ]
  },
  {
   "cell_type": "code",
   "execution_count": 79,
   "metadata": {},
   "outputs": [
    {
     "data": {
      "text/html": [
       "<div>\n",
       "<style scoped>\n",
       "    .dataframe tbody tr th:only-of-type {\n",
       "        vertical-align: middle;\n",
       "    }\n",
       "\n",
       "    .dataframe tbody tr th {\n",
       "        vertical-align: top;\n",
       "    }\n",
       "\n",
       "    .dataframe thead th {\n",
       "        text-align: right;\n",
       "    }\n",
       "</style>\n",
       "<table border=\"1\" class=\"dataframe\">\n",
       "  <thead>\n",
       "    <tr style=\"text-align: right;\">\n",
       "      <th></th>\n",
       "      <th>title</th>\n",
       "      <th>release_year</th>\n",
       "      <th>character</th>\n",
       "      <th>gender</th>\n",
       "      <th>words</th>\n",
       "      <th>proportion_of_dialogue</th>\n",
       "      <th>age</th>\n",
       "      <th>gross</th>\n",
       "      <th>script_id</th>\n",
       "    </tr>\n",
       "  </thead>\n",
       "  <tbody>\n",
       "    <tr>\n",
       "      <th>count</th>\n",
       "      <td>23047</td>\n",
       "      <td>23047.000000</td>\n",
       "      <td>23047</td>\n",
       "      <td>23047</td>\n",
       "      <td>23047.000000</td>\n",
       "      <td>23047.000000</td>\n",
       "      <td>18262.000000</td>\n",
       "      <td>19386.000000</td>\n",
       "      <td>23047.000000</td>\n",
       "    </tr>\n",
       "    <tr>\n",
       "      <th>unique</th>\n",
       "      <td>1994</td>\n",
       "      <td>NaN</td>\n",
       "      <td>17543</td>\n",
       "      <td>3</td>\n",
       "      <td>NaN</td>\n",
       "      <td>NaN</td>\n",
       "      <td>NaN</td>\n",
       "      <td>NaN</td>\n",
       "      <td>NaN</td>\n",
       "    </tr>\n",
       "    <tr>\n",
       "      <th>top</th>\n",
       "      <td>Lone Star</td>\n",
       "      <td>NaN</td>\n",
       "      <td>Doctor</td>\n",
       "      <td>man</td>\n",
       "      <td>NaN</td>\n",
       "      <td>NaN</td>\n",
       "      <td>NaN</td>\n",
       "      <td>NaN</td>\n",
       "      <td>NaN</td>\n",
       "    </tr>\n",
       "    <tr>\n",
       "      <th>freq</th>\n",
       "      <td>40</td>\n",
       "      <td>NaN</td>\n",
       "      <td>37</td>\n",
       "      <td>16131</td>\n",
       "      <td>NaN</td>\n",
       "      <td>NaN</td>\n",
       "      <td>NaN</td>\n",
       "      <td>NaN</td>\n",
       "      <td>NaN</td>\n",
       "    </tr>\n",
       "    <tr>\n",
       "      <th>mean</th>\n",
       "      <td>NaN</td>\n",
       "      <td>1998.132425</td>\n",
       "      <td>NaN</td>\n",
       "      <td>NaN</td>\n",
       "      <td>907.902634</td>\n",
       "      <td>0.086518</td>\n",
       "      <td>42.275052</td>\n",
       "      <td>106.735428</td>\n",
       "      <td>4194.804486</td>\n",
       "    </tr>\n",
       "    <tr>\n",
       "      <th>std</th>\n",
       "      <td>NaN</td>\n",
       "      <td>14.746052</td>\n",
       "      <td>NaN</td>\n",
       "      <td>NaN</td>\n",
       "      <td>1399.616135</td>\n",
       "      <td>0.107746</td>\n",
       "      <td>57.912595</td>\n",
       "      <td>145.861933</td>\n",
       "      <td>2473.037601</td>\n",
       "    </tr>\n",
       "    <tr>\n",
       "      <th>min</th>\n",
       "      <td>NaN</td>\n",
       "      <td>1929.000000</td>\n",
       "      <td>NaN</td>\n",
       "      <td>NaN</td>\n",
       "      <td>101.000000</td>\n",
       "      <td>0.001537</td>\n",
       "      <td>3.000000</td>\n",
       "      <td>0.000000</td>\n",
       "      <td>280.000000</td>\n",
       "    </tr>\n",
       "    <tr>\n",
       "      <th>25%</th>\n",
       "      <td>NaN</td>\n",
       "      <td>1992.000000</td>\n",
       "      <td>NaN</td>\n",
       "      <td>NaN</td>\n",
       "      <td>193.000000</td>\n",
       "      <td>0.019773</td>\n",
       "      <td>30.000000</td>\n",
       "      <td>22.000000</td>\n",
       "      <td>2095.000000</td>\n",
       "    </tr>\n",
       "    <tr>\n",
       "      <th>50%</th>\n",
       "      <td>NaN</td>\n",
       "      <td>2001.000000</td>\n",
       "      <td>NaN</td>\n",
       "      <td>NaN</td>\n",
       "      <td>396.000000</td>\n",
       "      <td>0.042423</td>\n",
       "      <td>39.000000</td>\n",
       "      <td>56.000000</td>\n",
       "      <td>3694.000000</td>\n",
       "    </tr>\n",
       "    <tr>\n",
       "      <th>75%</th>\n",
       "      <td>NaN</td>\n",
       "      <td>2009.000000</td>\n",
       "      <td>NaN</td>\n",
       "      <td>NaN</td>\n",
       "      <td>980.000000</td>\n",
       "      <td>0.104171</td>\n",
       "      <td>50.000000</td>\n",
       "      <td>136.000000</td>\n",
       "      <td>6224.500000</td>\n",
       "    </tr>\n",
       "    <tr>\n",
       "      <th>max</th>\n",
       "      <td>NaN</td>\n",
       "      <td>2015.000000</td>\n",
       "      <td>NaN</td>\n",
       "      <td>NaN</td>\n",
       "      <td>28102.000000</td>\n",
       "      <td>0.923422</td>\n",
       "      <td>2009.000000</td>\n",
       "      <td>1798.000000</td>\n",
       "      <td>9254.000000</td>\n",
       "    </tr>\n",
       "  </tbody>\n",
       "</table>\n",
       "</div>"
      ],
      "text/plain": [
       "            title  release_year character gender         words  \\\n",
       "count       23047  23047.000000     23047  23047  23047.000000   \n",
       "unique       1994           NaN     17543      3           NaN   \n",
       "top     Lone Star           NaN    Doctor    man           NaN   \n",
       "freq           40           NaN        37  16131           NaN   \n",
       "mean          NaN   1998.132425       NaN    NaN    907.902634   \n",
       "std           NaN     14.746052       NaN    NaN   1399.616135   \n",
       "min           NaN   1929.000000       NaN    NaN    101.000000   \n",
       "25%           NaN   1992.000000       NaN    NaN    193.000000   \n",
       "50%           NaN   2001.000000       NaN    NaN    396.000000   \n",
       "75%           NaN   2009.000000       NaN    NaN    980.000000   \n",
       "max           NaN   2015.000000       NaN    NaN  28102.000000   \n",
       "\n",
       "        proportion_of_dialogue           age         gross     script_id  \n",
       "count             23047.000000  18262.000000  19386.000000  23047.000000  \n",
       "unique                     NaN           NaN           NaN           NaN  \n",
       "top                        NaN           NaN           NaN           NaN  \n",
       "freq                       NaN           NaN           NaN           NaN  \n",
       "mean                  0.086518     42.275052    106.735428   4194.804486  \n",
       "std                   0.107746     57.912595    145.861933   2473.037601  \n",
       "min                   0.001537      3.000000      0.000000    280.000000  \n",
       "25%                   0.019773     30.000000     22.000000   2095.000000  \n",
       "50%                   0.042423     39.000000     56.000000   3694.000000  \n",
       "75%                   0.104171     50.000000    136.000000   6224.500000  \n",
       "max                   0.923422   2009.000000   1798.000000   9254.000000  "
      ]
     },
     "execution_count": 79,
     "metadata": {},
     "output_type": "execute_result"
    }
   ],
   "source": [
    "film_df.describe(include='all')"
   ]
  },
  {
   "cell_type": "markdown",
   "metadata": {},
   "source": [
    "### ❓ What patterns or outliers do you notice?\n",
    "\n",
    "Most movies in the sample have an older male protagonist, and were released around 1998. There is one outlier, as the film Lost Horizon was relaesed in 1937."
   ]
  },
  {
   "cell_type": "markdown",
   "metadata": {},
   "source": [
    "## Drop Rows"
   ]
  },
  {
   "cell_type": "code",
   "execution_count": 80,
   "metadata": {},
   "outputs": [
    {
     "data": {
      "text/html": [
       "<div>\n",
       "<style scoped>\n",
       "    .dataframe tbody tr th:only-of-type {\n",
       "        vertical-align: middle;\n",
       "    }\n",
       "\n",
       "    .dataframe tbody tr th {\n",
       "        vertical-align: top;\n",
       "    }\n",
       "\n",
       "    .dataframe thead th {\n",
       "        text-align: right;\n",
       "    }\n",
       "</style>\n",
       "<table border=\"1\" class=\"dataframe\">\n",
       "  <thead>\n",
       "    <tr style=\"text-align: right;\">\n",
       "      <th></th>\n",
       "      <th>title</th>\n",
       "      <th>release_year</th>\n",
       "      <th>character</th>\n",
       "      <th>gender</th>\n",
       "      <th>words</th>\n",
       "      <th>proportion_of_dialogue</th>\n",
       "      <th>age</th>\n",
       "      <th>gross</th>\n",
       "      <th>script_id</th>\n",
       "    </tr>\n",
       "  </thead>\n",
       "  <tbody>\n",
       "    <tr>\n",
       "      <th>4024</th>\n",
       "      <td>American Psycho</td>\n",
       "      <td>2000</td>\n",
       "      <td>Harold Carnes</td>\n",
       "      <td>man</td>\n",
       "      <td>434</td>\n",
       "      <td>0.025271</td>\n",
       "      <td>2000.0</td>\n",
       "      <td>24.0</td>\n",
       "      <td>1639</td>\n",
       "    </tr>\n",
       "    <tr>\n",
       "      <th>5254</th>\n",
       "      <td>Case 39</td>\n",
       "      <td>2009</td>\n",
       "      <td>Margaret Sulliv</td>\n",
       "      <td>woman</td>\n",
       "      <td>310</td>\n",
       "      <td>0.037944</td>\n",
       "      <td>2009.0</td>\n",
       "      <td>15.0</td>\n",
       "      <td>1962</td>\n",
       "    </tr>\n",
       "    <tr>\n",
       "      <th>5370</th>\n",
       "      <td>Chaos</td>\n",
       "      <td>2005</td>\n",
       "      <td>Bernie Callo</td>\n",
       "      <td>man</td>\n",
       "      <td>244</td>\n",
       "      <td>0.015051</td>\n",
       "      <td>2005.0</td>\n",
       "      <td>NaN</td>\n",
       "      <td>1985</td>\n",
       "    </tr>\n",
       "    <tr>\n",
       "      <th>5950</th>\n",
       "      <td>The Departed</td>\n",
       "      <td>2006</td>\n",
       "      <td>Realtor</td>\n",
       "      <td>man</td>\n",
       "      <td>148</td>\n",
       "      <td>0.005575</td>\n",
       "      <td>2006.0</td>\n",
       "      <td>175.0</td>\n",
       "      <td>2144</td>\n",
       "    </tr>\n",
       "    <tr>\n",
       "      <th>6899</th>\n",
       "      <td>Get Carter</td>\n",
       "      <td>2000</td>\n",
       "      <td>Thorpey</td>\n",
       "      <td>man</td>\n",
       "      <td>133</td>\n",
       "      <td>0.026552</td>\n",
       "      <td>2000.0</td>\n",
       "      <td>24.0</td>\n",
       "      <td>2380</td>\n",
       "    </tr>\n",
       "    <tr>\n",
       "      <th>7787</th>\n",
       "      <td>Into the Wild</td>\n",
       "      <td>2007</td>\n",
       "      <td>Bull</td>\n",
       "      <td>man</td>\n",
       "      <td>188</td>\n",
       "      <td>0.009936</td>\n",
       "      <td>2007.0</td>\n",
       "      <td>23.0</td>\n",
       "      <td>2625</td>\n",
       "    </tr>\n",
       "    <tr>\n",
       "      <th>7968</th>\n",
       "      <td>Jay and Silent Bob Strike Back</td>\n",
       "      <td>2001</td>\n",
       "      <td>Silent Bob'S Mo</td>\n",
       "      <td>woman</td>\n",
       "      <td>224</td>\n",
       "      <td>0.009292</td>\n",
       "      <td>2001.0</td>\n",
       "      <td>46.0</td>\n",
       "      <td>2673</td>\n",
       "    </tr>\n",
       "    <tr>\n",
       "      <th>9233</th>\n",
       "      <td>Never Been Kissed</td>\n",
       "      <td>1999</td>\n",
       "      <td>Monty Malik</td>\n",
       "      <td>man</td>\n",
       "      <td>104</td>\n",
       "      <td>0.005219</td>\n",
       "      <td>1999.0</td>\n",
       "      <td>95.0</td>\n",
       "      <td>2986</td>\n",
       "    </tr>\n",
       "    <tr>\n",
       "      <th>9617</th>\n",
       "      <td>The Piano</td>\n",
       "      <td>1993</td>\n",
       "      <td>Nessie</td>\n",
       "      <td>woman</td>\n",
       "      <td>116</td>\n",
       "      <td>0.012262</td>\n",
       "      <td>1993.0</td>\n",
       "      <td>84.0</td>\n",
       "      <td>3095</td>\n",
       "    </tr>\n",
       "    <tr>\n",
       "      <th>9819</th>\n",
       "      <td>Raging Bull</td>\n",
       "      <td>1980</td>\n",
       "      <td>Reporter</td>\n",
       "      <td>man</td>\n",
       "      <td>300</td>\n",
       "      <td>0.013364</td>\n",
       "      <td>1980.0</td>\n",
       "      <td>NaN</td>\n",
       "      <td>3169</td>\n",
       "    </tr>\n",
       "    <tr>\n",
       "      <th>10151</th>\n",
       "      <td>Se7en</td>\n",
       "      <td>1995</td>\n",
       "      <td>Officer Davis</td>\n",
       "      <td>man</td>\n",
       "      <td>152</td>\n",
       "      <td>0.007366</td>\n",
       "      <td>1995.0</td>\n",
       "      <td>200.0</td>\n",
       "      <td>3288</td>\n",
       "    </tr>\n",
       "    <tr>\n",
       "      <th>13600</th>\n",
       "      <td>Knight Moves</td>\n",
       "      <td>1992</td>\n",
       "      <td>Newscaster</td>\n",
       "      <td>man</td>\n",
       "      <td>120</td>\n",
       "      <td>0.012451</td>\n",
       "      <td>1992.0</td>\n",
       "      <td>1.0</td>\n",
       "      <td>4487</td>\n",
       "    </tr>\n",
       "    <tr>\n",
       "      <th>14384</th>\n",
       "      <td>Only You</td>\n",
       "      <td>1994</td>\n",
       "      <td>Himself       (</td>\n",
       "      <td>man</td>\n",
       "      <td>276</td>\n",
       "      <td>0.023730</td>\n",
       "      <td>102.0</td>\n",
       "      <td>41.0</td>\n",
       "      <td>4758</td>\n",
       "    </tr>\n",
       "    <tr>\n",
       "      <th>14757</th>\n",
       "      <td>Scream</td>\n",
       "      <td>1996</td>\n",
       "      <td>Girl In Bathroo</td>\n",
       "      <td>woman</td>\n",
       "      <td>162</td>\n",
       "      <td>0.018510</td>\n",
       "      <td>1996.0</td>\n",
       "      <td>202.0</td>\n",
       "      <td>4920</td>\n",
       "    </tr>\n",
       "    <tr>\n",
       "      <th>19221</th>\n",
       "      <td>Borderland</td>\n",
       "      <td>2007</td>\n",
       "      <td>Captain Ramirez</td>\n",
       "      <td>man</td>\n",
       "      <td>121</td>\n",
       "      <td>0.017430</td>\n",
       "      <td>2007.0</td>\n",
       "      <td>NaN</td>\n",
       "      <td>7351</td>\n",
       "    </tr>\n",
       "    <tr>\n",
       "      <th>21634</th>\n",
       "      <td>Last Man Standing</td>\n",
       "      <td>1996</td>\n",
       "      <td>Jack Mccool</td>\n",
       "      <td>man</td>\n",
       "      <td>338</td>\n",
       "      <td>0.044491</td>\n",
       "      <td>1996.0</td>\n",
       "      <td>35.0</td>\n",
       "      <td>8412</td>\n",
       "    </tr>\n",
       "  </tbody>\n",
       "</table>\n",
       "</div>"
      ],
      "text/plain": [
       "                                title  release_year        character gender  \\\n",
       "4024                  American Psycho          2000    Harold Carnes    man   \n",
       "5254                          Case 39          2009  Margaret Sulliv  woman   \n",
       "5370                            Chaos          2005     Bernie Callo    man   \n",
       "5950                     The Departed          2006          Realtor    man   \n",
       "6899                       Get Carter          2000          Thorpey    man   \n",
       "7787                    Into the Wild          2007             Bull    man   \n",
       "7968   Jay and Silent Bob Strike Back          2001  Silent Bob'S Mo  woman   \n",
       "9233                Never Been Kissed          1999      Monty Malik    man   \n",
       "9617                        The Piano          1993           Nessie  woman   \n",
       "9819                      Raging Bull          1980         Reporter    man   \n",
       "10151                           Se7en          1995    Officer Davis    man   \n",
       "13600                    Knight Moves          1992       Newscaster    man   \n",
       "14384                        Only You          1994  Himself       (    man   \n",
       "14757                          Scream          1996  Girl In Bathroo  woman   \n",
       "19221                      Borderland          2007  Captain Ramirez    man   \n",
       "21634               Last Man Standing          1996      Jack Mccool    man   \n",
       "\n",
       "       words  proportion_of_dialogue     age  gross  script_id  \n",
       "4024     434                0.025271  2000.0   24.0       1639  \n",
       "5254     310                0.037944  2009.0   15.0       1962  \n",
       "5370     244                0.015051  2005.0    NaN       1985  \n",
       "5950     148                0.005575  2006.0  175.0       2144  \n",
       "6899     133                0.026552  2000.0   24.0       2380  \n",
       "7787     188                0.009936  2007.0   23.0       2625  \n",
       "7968     224                0.009292  2001.0   46.0       2673  \n",
       "9233     104                0.005219  1999.0   95.0       2986  \n",
       "9617     116                0.012262  1993.0   84.0       3095  \n",
       "9819     300                0.013364  1980.0    NaN       3169  \n",
       "10151    152                0.007366  1995.0  200.0       3288  \n",
       "13600    120                0.012451  1992.0    1.0       4487  \n",
       "14384    276                0.023730   102.0   41.0       4758  \n",
       "14757    162                0.018510  1996.0  202.0       4920  \n",
       "19221    121                0.017430  2007.0    NaN       7351  \n",
       "21634    338                0.044491  1996.0   35.0       8412  "
      ]
     },
     "execution_count": 80,
     "metadata": {},
     "output_type": "execute_result"
    }
   ],
   "source": [
    "film_df[film_df['age'] > 100]"
   ]
  },
  {
   "cell_type": "markdown",
   "metadata": {},
   "source": [
    "If you want to double check, you can examine the [data that the Pudding shared here](https://github.com/matthewfdaniels/scripts/blob/graphs/character_list5.csv) (you can control + F to search for specific characters)."
   ]
  },
  {
   "cell_type": "code",
   "execution_count": 81,
   "metadata": {},
   "outputs": [],
   "source": [
    "film_df = film_df.drop(film_df[film_df['age'] > 100].index) "
   ]
  },
  {
   "cell_type": "code",
   "execution_count": 82,
   "metadata": {},
   "outputs": [
    {
     "name": "stdout",
     "output_type": "stream",
     "text": [
      "<class 'pandas.core.frame.DataFrame'>\n",
      "Int64Index: 23031 entries, 0 to 23046\n",
      "Data columns (total 9 columns):\n",
      " #   Column                  Non-Null Count  Dtype  \n",
      "---  ------                  --------------  -----  \n",
      " 0   title                   23031 non-null  object \n",
      " 1   release_year            23031 non-null  int64  \n",
      " 2   character               23031 non-null  object \n",
      " 3   gender                  23031 non-null  object \n",
      " 4   words                   23031 non-null  int64  \n",
      " 5   proportion_of_dialogue  23031 non-null  float64\n",
      " 6   age                     18246 non-null  float64\n",
      " 7   gross                   19373 non-null  float64\n",
      " 8   script_id               23031 non-null  int64  \n",
      "dtypes: float64(3), int64(3), object(3)\n",
      "memory usage: 1.8+ MB\n"
     ]
    }
   ],
   "source": [
    "film_df.info()"
   ]
  },
  {
   "cell_type": "code",
   "execution_count": 83,
   "metadata": {},
   "outputs": [
    {
     "data": {
      "text/html": [
       "<div>\n",
       "<style scoped>\n",
       "    .dataframe tbody tr th:only-of-type {\n",
       "        vertical-align: middle;\n",
       "    }\n",
       "\n",
       "    .dataframe tbody tr th {\n",
       "        vertical-align: top;\n",
       "    }\n",
       "\n",
       "    .dataframe thead th {\n",
       "        text-align: right;\n",
       "    }\n",
       "</style>\n",
       "<table border=\"1\" class=\"dataframe\">\n",
       "  <thead>\n",
       "    <tr style=\"text-align: right;\">\n",
       "      <th></th>\n",
       "      <th>title</th>\n",
       "      <th>release_year</th>\n",
       "      <th>character</th>\n",
       "      <th>gender</th>\n",
       "      <th>words</th>\n",
       "      <th>proportion_of_dialogue</th>\n",
       "      <th>age</th>\n",
       "      <th>gross</th>\n",
       "      <th>script_id</th>\n",
       "    </tr>\n",
       "  </thead>\n",
       "  <tbody>\n",
       "  </tbody>\n",
       "</table>\n",
       "</div>"
      ],
      "text/plain": [
       "Empty DataFrame\n",
       "Columns: [title, release_year, character, gender, words, proportion_of_dialogue, age, gross, script_id]\n",
       "Index: []"
      ]
     },
     "execution_count": 83,
     "metadata": {},
     "output_type": "execute_result"
    }
   ],
   "source": [
    "film_df[film_df['age'] > 100]"
   ]
  },
  {
   "cell_type": "markdown",
   "metadata": {},
   "source": [
    "## Rename Columns"
   ]
  },
  {
   "cell_type": "code",
   "execution_count": 84,
   "metadata": {},
   "outputs": [],
   "source": [
    "film_df = film_df.rename(columns={'imdb_character_name': 'character', 'year': 'release_year'})"
   ]
  },
  {
   "cell_type": "code",
   "execution_count": 85,
   "metadata": {
    "tags": [
     "full-width"
    ]
   },
   "outputs": [
    {
     "data": {
      "text/html": [
       "<div>\n",
       "<style scoped>\n",
       "    .dataframe tbody tr th:only-of-type {\n",
       "        vertical-align: middle;\n",
       "    }\n",
       "\n",
       "    .dataframe tbody tr th {\n",
       "        vertical-align: top;\n",
       "    }\n",
       "\n",
       "    .dataframe thead th {\n",
       "        text-align: right;\n",
       "    }\n",
       "</style>\n",
       "<table border=\"1\" class=\"dataframe\">\n",
       "  <thead>\n",
       "    <tr style=\"text-align: right;\">\n",
       "      <th></th>\n",
       "      <th>title</th>\n",
       "      <th>release_year</th>\n",
       "      <th>character</th>\n",
       "      <th>gender</th>\n",
       "      <th>words</th>\n",
       "      <th>proportion_of_dialogue</th>\n",
       "      <th>age</th>\n",
       "      <th>gross</th>\n",
       "      <th>script_id</th>\n",
       "    </tr>\n",
       "  </thead>\n",
       "  <tbody>\n",
       "    <tr>\n",
       "      <th>0</th>\n",
       "      <td>The Bridges of Madison County</td>\n",
       "      <td>1995</td>\n",
       "      <td>Betty</td>\n",
       "      <td>woman</td>\n",
       "      <td>311</td>\n",
       "      <td>0.048639</td>\n",
       "      <td>35.0</td>\n",
       "      <td>142.0</td>\n",
       "      <td>280</td>\n",
       "    </tr>\n",
       "    <tr>\n",
       "      <th>1</th>\n",
       "      <td>The Bridges of Madison County</td>\n",
       "      <td>1995</td>\n",
       "      <td>Carolyn Johnson</td>\n",
       "      <td>woman</td>\n",
       "      <td>873</td>\n",
       "      <td>0.136534</td>\n",
       "      <td>NaN</td>\n",
       "      <td>142.0</td>\n",
       "      <td>280</td>\n",
       "    </tr>\n",
       "    <tr>\n",
       "      <th>2</th>\n",
       "      <td>The Bridges of Madison County</td>\n",
       "      <td>1995</td>\n",
       "      <td>Eleanor</td>\n",
       "      <td>woman</td>\n",
       "      <td>138</td>\n",
       "      <td>0.021583</td>\n",
       "      <td>NaN</td>\n",
       "      <td>142.0</td>\n",
       "      <td>280</td>\n",
       "    </tr>\n",
       "    <tr>\n",
       "      <th>3</th>\n",
       "      <td>The Bridges of Madison County</td>\n",
       "      <td>1995</td>\n",
       "      <td>Francesca Johns</td>\n",
       "      <td>woman</td>\n",
       "      <td>2251</td>\n",
       "      <td>0.352049</td>\n",
       "      <td>46.0</td>\n",
       "      <td>142.0</td>\n",
       "      <td>280</td>\n",
       "    </tr>\n",
       "    <tr>\n",
       "      <th>4</th>\n",
       "      <td>The Bridges of Madison County</td>\n",
       "      <td>1995</td>\n",
       "      <td>Madge</td>\n",
       "      <td>woman</td>\n",
       "      <td>190</td>\n",
       "      <td>0.029715</td>\n",
       "      <td>46.0</td>\n",
       "      <td>142.0</td>\n",
       "      <td>280</td>\n",
       "    </tr>\n",
       "  </tbody>\n",
       "</table>\n",
       "</div>"
      ],
      "text/plain": [
       "                           title  release_year        character gender  words  \\\n",
       "0  The Bridges of Madison County          1995            Betty  woman    311   \n",
       "1  The Bridges of Madison County          1995  Carolyn Johnson  woman    873   \n",
       "2  The Bridges of Madison County          1995          Eleanor  woman    138   \n",
       "3  The Bridges of Madison County          1995  Francesca Johns  woman   2251   \n",
       "4  The Bridges of Madison County          1995            Madge  woman    190   \n",
       "\n",
       "   proportion_of_dialogue   age  gross  script_id  \n",
       "0                0.048639  35.0  142.0        280  \n",
       "1                0.136534   NaN  142.0        280  \n",
       "2                0.021583   NaN  142.0        280  \n",
       "3                0.352049  46.0  142.0        280  \n",
       "4                0.029715  46.0  142.0        280  "
      ]
     },
     "execution_count": 85,
     "metadata": {},
     "output_type": "execute_result"
    }
   ],
   "source": [
    "film_df.head()"
   ]
  },
  {
   "cell_type": "markdown",
   "metadata": {},
   "source": [
    "## Filter"
   ]
  },
  {
   "cell_type": "markdown",
   "metadata": {},
   "source": [
    "Find a specific film that you're intersted and then filter the DataFrame for only rows relevant to that film. \n",
    "\n",
    "If you want to search for films by decade and genre, you can [search the with the Pudding's handy data viz here](https://pudding.cool/2017/03/film-dialogue/embed.html)."
   ]
  },
  {
   "cell_type": "code",
   "execution_count": 86,
   "metadata": {},
   "outputs": [
    {
     "name": "stdout",
     "output_type": "stream",
     "text": [
      "             title  release_year        character gender  words  \\\n",
      "5937  The Departed          2006            Billy    man   5824   \n",
      "5938  The Departed          2006   Colin Sullivan    man   6284   \n",
      "5939  The Departed          2006         Delahunt    man    594   \n",
      "5940  The Departed          2006  Detective #1 Ta    man    202   \n",
      "5941  The Departed          2006           Dignam    man   1218   \n",
      "5942  The Departed          2006          Ellerby    man   1788   \n",
      "5943  The Departed          2006            Fitzy    man    474   \n",
      "5944  The Departed          2006   Frank Costello    man   4584   \n",
      "5945  The Departed          2006  Kneecapped Bank    man    174   \n",
      "5946  The Departed          2006          Madolyn  woman   2030   \n",
      "5947  The Departed          2006      News Anchor    man    124   \n",
      "5948  The Departed          2006     Older Priest    man    168   \n",
      "5949  The Departed          2006          Queenan    man   1804   \n",
      "5951  The Departed          2006             Sean    man    492   \n",
      "5952  The Departed          2006  Trooper Barriga    man    246   \n",
      "5953  The Departed          2006    Trooper Brown    man    394   \n",
      "\n",
      "      proportion_of_dialogue   age  gross  script_id  \n",
      "5937                0.219376  32.0  175.0       2144  \n",
      "5938                0.236703  36.0  175.0       2144  \n",
      "5939                0.022375  50.0  175.0       2144  \n",
      "5940                0.007609   NaN  175.0       2144  \n",
      "5941                0.045879  35.0  175.0       2144  \n",
      "5942                0.067350  48.0  175.0       2144  \n",
      "5943                0.017854  41.0  175.0       2144  \n",
      "5944                0.172668  69.0  175.0       2144  \n",
      "5945                0.006554   NaN  175.0       2144  \n",
      "5946                0.076465  33.0  175.0       2144  \n",
      "5947                0.004671   NaN  175.0       2144  \n",
      "5948                0.006328  74.0  175.0       2144  \n",
      "5949                0.067952  66.0  175.0       2144  \n",
      "5951                0.018532  42.0  175.0       2144  \n",
      "5952                0.009266  28.0  175.0       2144  \n",
      "5953                0.014841  36.0  175.0       2144  \n"
     ]
    }
   ],
   "source": [
    "target_film = 'The Departed'\n",
    "\n",
    "mask = film_df['title'] == target_film\n",
    "\n",
    "filtered_df = film_df[mask]\n",
    "\n",
    "print(filtered_df)"
   ]
  },
  {
   "cell_type": "markdown",
   "metadata": {},
   "source": [
    "If you want to sort by characters who speak the most, feel free to add `.sort_values(by='words', ascending=False)`"
   ]
  },
  {
   "cell_type": "code",
   "execution_count": 87,
   "metadata": {},
   "outputs": [
    {
     "name": "stdout",
     "output_type": "stream",
     "text": [
      "          character  words\n",
      "1    Colin Sullivan   6284\n",
      "0             Billy   5824\n",
      "7    Frank Costello   4584\n",
      "9           Madolyn   2030\n",
      "12          Queenan   1804\n",
      "5           Ellerby   1788\n",
      "4            Dignam   1218\n",
      "2          Delahunt    594\n",
      "13             Sean    492\n",
      "6             Fitzy    474\n",
      "15    Trooper Brown    394\n",
      "14  Trooper Barriga    246\n",
      "3   Detective #1 Ta    202\n",
      "8   Kneecapped Bank    174\n",
      "11     Older Priest    168\n",
      "10      News Anchor    124\n"
     ]
    }
   ],
   "source": [
    "target_film = 'The Departed'\n",
    "\n",
    "mask = film_df['title'] == target_film\n",
    "\n",
    "filtered_df = film_df[mask]\n",
    "\n",
    "character_word_counts = filtered_df.groupby('character')['words'].sum().reset_index()\n",
    "departed_df = character_word_counts.sort_values(by='words', ascending=False)\n",
    "print(departed_df)"
   ]
  },
  {
   "cell_type": "markdown",
   "metadata": {},
   "source": [
    "Now pick a character from this film (or another character) and filter the DataFrame by character."
   ]
  },
  {
   "cell_type": "code",
   "execution_count": 88,
   "metadata": {},
   "outputs": [
    {
     "name": "stdout",
     "output_type": "stream",
     "text": [
      "             title  release_year       character gender  words  \\\n",
      "5938  The Departed          2006  Colin Sullivan    man   6284   \n",
      "\n",
      "      proportion_of_dialogue   age  gross  script_id  \n",
      "5938                0.236703  36.0  175.0       2144  \n"
     ]
    }
   ],
   "source": [
    "target_character = 'Colin Sullivan'\n",
    "\n",
    "mask = film_df['character'] == target_character\n",
    "filtered_df = film_df[mask]\n",
    "print(filtered_df)"
   ]
  },
  {
   "cell_type": "markdown",
   "metadata": {},
   "source": [
    "### ❓ How does this data align with your experience/knowledge of the film?\n",
    "\n",
    "Given that Collin and Billy were the two main charecters of the film, it makes sense to me that Collin would have a signifigant amount of lines. It appears that they almost split the top spot for lines in the film. This also makes sense given the runtime of the movie is split fairly evenly between the two of them."
   ]
  },
  {
   "cell_type": "markdown",
   "metadata": {},
   "source": [
    "### ❓ How do these specific examples influence your thoughts about the data collection and categorization process? What would you have done differently (if anything)?\n",
    "\n",
    "I find it very fascinating that mass amounts of data on so many films can be reched so quickly. If I were to retry this i would find a way to pull up data without using a boolean mask, as this was the main way I chose to highlight specific films and charecters."
   ]
  },
  {
   "cell_type": "markdown",
   "metadata": {},
   "source": [
    "## Sort Values"
   ]
  },
  {
   "cell_type": "markdown",
   "metadata": {},
   "source": [
    "Sort the DataFrame from the character who has the highest `proportion_of_dialogue` to the lowest.  Then examine the first 20 rows with `.head(20)` or `[:20]`."
   ]
  },
  {
   "cell_type": "code",
   "execution_count": 89,
   "metadata": {},
   "outputs": [
    {
     "name": "stdout",
     "output_type": "stream",
     "text": [
      "          character  Proportion_of_Dialogue\n",
      "1    Colin Sullivan                0.238030\n",
      "0             Billy                0.220606\n",
      "7    Frank Costello                0.173636\n",
      "9           Madolyn                0.076894\n",
      "12          Queenan                0.068333\n",
      "5           Ellerby                0.067727\n",
      "4            Dignam                0.046136\n",
      "2          Delahunt                0.022500\n",
      "13             Sean                0.018636\n",
      "6             Fitzy                0.017955\n",
      "15    Trooper Brown                0.014924\n",
      "14  Trooper Barriga                0.009318\n",
      "3   Detective #1 Ta                0.007652\n",
      "8   Kneecapped Bank                0.006591\n",
      "11     Older Priest                0.006364\n",
      "10      News Anchor                0.004697\n"
     ]
    }
   ],
   "source": [
    "target_film = 'The Departed'\n",
    "\n",
    "mask = film_df['title'] == target_film\n",
    "\n",
    "filtered_df = film_df[mask]\n",
    "\n",
    "character_word_counts = filtered_df.groupby('character')['words'].sum().reset_index()\n",
    "departed_df = character_word_counts.sort_values(by='words', ascending=False)\n",
    "total_words_by_character = departed_df.groupby('character')['words'].sum()\n",
    "total_words_in_film = departed_df['words'].sum()\n",
    "proportion_of_dialogue = total_words_by_character / total_words_in_film\n",
    "proportion_df = proportion_of_dialogue.reset_index()\n",
    "proportion_df.columns = ['character', 'Proportion_of_Dialogue']\n",
    "departpropsort_df = proportion_df.sort_values(by='Proportion_of_Dialogue', ascending=False)\n",
    "print(departpropsort_df[:20])"
   ]
  },
  {
   "cell_type": "markdown",
   "metadata": {},
   "source": [
    "Sort the DataFrame from the character who has the lowest `proportion_of_dialogue` to the highest. Then examine the first 20 rows with `.head(20)` or `[:20]`."
   ]
  },
  {
   "cell_type": "code",
   "execution_count": 90,
   "metadata": {},
   "outputs": [
    {
     "name": "stdout",
     "output_type": "stream",
     "text": [
      "          character  Proportion_of_Dialogue\n",
      "10      News Anchor                0.004697\n",
      "11     Older Priest                0.006364\n",
      "8   Kneecapped Bank                0.006591\n",
      "3   Detective #1 Ta                0.007652\n",
      "14  Trooper Barriga                0.009318\n",
      "15    Trooper Brown                0.014924\n",
      "6             Fitzy                0.017955\n",
      "13             Sean                0.018636\n",
      "2          Delahunt                0.022500\n",
      "4            Dignam                0.046136\n",
      "5           Ellerby                0.067727\n",
      "12          Queenan                0.068333\n",
      "9           Madolyn                0.076894\n",
      "7    Frank Costello                0.173636\n",
      "0             Billy                0.220606\n",
      "1    Colin Sullivan                0.238030\n"
     ]
    },
    {
     "ename": "TypeError",
     "evalue": "'NoneType' object is not subscriptable",
     "output_type": "error",
     "traceback": [
      "\u001b[0;31m---------------------------------------------------------------------------\u001b[0m",
      "\u001b[0;31mTypeError\u001b[0m                                 Traceback (most recent call last)",
      "\u001b[1;32m/Users/allie/Downloads/Writing and digital media/3844f23-writing-digital-media/book/03-Pandas-Data-Analysis/MIDTERM.ipynb Cell 44\u001b[0m line \u001b[0;36m2\n\u001b[1;32m      <a href='vscode-notebook-cell:/Users/allie/Downloads/Writing%20and%20digital%20media/3844f23-writing-digital-media/book/03-Pandas-Data-Analysis/MIDTERM.ipynb#X62sZmlsZQ%3D%3D?line=0'>1</a>\u001b[0m sorted_df_lowest_to_highest \u001b[39m=\u001b[39m proportion_df\u001b[39m.\u001b[39msort_values(by\u001b[39m=\u001b[39m\u001b[39m'\u001b[39m\u001b[39mProportion_of_Dialogue\u001b[39m\u001b[39m'\u001b[39m, ascending\u001b[39m=\u001b[39m\u001b[39mTrue\u001b[39;00m)\n\u001b[0;32m----> <a href='vscode-notebook-cell:/Users/allie/Downloads/Writing%20and%20digital%20media/3844f23-writing-digital-media/book/03-Pandas-Data-Analysis/MIDTERM.ipynb#X62sZmlsZQ%3D%3D?line=1'>2</a>\u001b[0m \u001b[39mprint\u001b[39m(sorted_df_lowest_to_highest)[:\u001b[39m20\u001b[39m]\n",
      "\u001b[0;31mTypeError\u001b[0m: 'NoneType' object is not subscriptable"
     ]
    }
   ],
   "source": [
    "sorted_df_lowest_to_highest = proportion_df.sort_values(by='Proportion_of_Dialogue', ascending=True)\n",
    "print(sorted_df_lowest_to_highest)[:20]"
   ]
  },
  {
   "cell_type": "markdown",
   "metadata": {},
   "source": [
    "Sort the DataFrame from the character who speaks the least number of `words` to the character who speaks the most number of words. Then examine the first 20 rows with `.head(20)` or `[:20]`."
   ]
  },
  {
   "cell_type": "code",
   "execution_count": null,
   "metadata": {},
   "outputs": [
    {
     "name": "stdout",
     "output_type": "stream",
     "text": [
      "          character  words\n",
      "10      News Anchor    124\n",
      "11     Older Priest    168\n",
      "8   Kneecapped Bank    174\n",
      "3   Detective #1 Ta    202\n",
      "14  Trooper Barriga    246\n",
      "15    Trooper Brown    394\n",
      "6             Fitzy    474\n",
      "13             Sean    492\n",
      "2          Delahunt    594\n",
      "4            Dignam   1218\n",
      "5           Ellerby   1788\n",
      "12          Queenan   1804\n",
      "9           Madolyn   2030\n",
      "7    Frank Costello   4584\n",
      "0             Billy   5824\n",
      "1    Colin Sullivan   6284\n"
     ]
    }
   ],
   "source": [
    "sorted_df_least_to_most = departed_df.sort_values(by='words', ascending=True)\n",
    "print(sorted_df_least_to_most.head(20))"
   ]
  },
  {
   "cell_type": "markdown",
   "metadata": {},
   "source": [
    "### ❓ What patterns do you notice here? What surprises you or doesn't surprise you?\n",
    "\n",
    "I notice the dialougue is dominated mainly by 3 charecters. I am suprised at how many lines Frank Costello has, especially compared to Madolyn. being that she was so important to both main charecters lives, I expected her to have more lines."
   ]
  },
  {
   "cell_type": "markdown",
   "metadata": {},
   "source": [
    "## Groupby"
   ]
  },
  {
   "cell_type": "markdown",
   "metadata": {},
   "source": [
    "Group by film and then calculate the sum total for every column."
   ]
  },
  {
   "cell_type": "code",
   "execution_count": 96,
   "metadata": {},
   "outputs": [
    {
     "name": "stdout",
     "output_type": "stream",
     "text": [
      "                            release_year  words  proportion_of_dialogue  \\\n",
      "title                                                                     \n",
      "(500) Days of Summer               26117  18500                     1.0   \n",
      "10 Things I Hate About You         23988  19680                     1.0   \n",
      "12 Years a Slave                   56364  19628                     1.0   \n",
      "12 and Holding                     30075  15968                     1.0   \n",
      "127 Hours                           8040   5145                     1.0   \n",
      "...                                  ...    ...                     ...   \n",
      "Zero Effect                        13986  13927                     1.0   \n",
      "Zerophilia                         16040  16686                     1.0   \n",
      "Zodiac                             62217  14656                     1.0   \n",
      "eXistenZ                           17991   9447                     1.0   \n",
      "xXx                                18018   8285                     1.0   \n",
      "\n",
      "                               age   gross  script_id  \n",
      "title                                                  \n",
      "(500) Days of Summer         378.0   481.0      19942  \n",
      "10 Things I Hate About You   307.0   780.0      18144  \n",
      "12 Years a Slave             712.0  1680.0      42476  \n",
      "12 and Holding               513.0     0.0      22710  \n",
      "127 Hours                    114.0    80.0       6080  \n",
      "...                            ...     ...        ...  \n",
      "Zero Effect                  227.0    21.0      57106  \n",
      "Zerophilia                   160.0     0.0      30144  \n",
      "Zodiac                      1071.0  1271.0     201221  \n",
      "eXistenZ                     309.0    36.0      62757  \n",
      "xXx                          283.0  1899.0      13473  \n",
      "\n",
      "[1994 rows x 6 columns]\n"
     ]
    },
    {
     "name": "stderr",
     "output_type": "stream",
     "text": [
      "/var/folders/pc/j71nv0pj0mqdx8cd0tdb_hrw0000gn/T/ipykernel_5835/805821884.py:1: FutureWarning: The default value of numeric_only in DataFrameGroupBy.sum is deprecated. In a future version, numeric_only will default to False. Either specify numeric_only or select only columns which should be valid for the function.\n",
      "  grouped_df = film_df.groupby('title').sum()\n"
     ]
    }
   ],
   "source": [
    "grouped_df = film_df.groupby('title').sum()\n",
    "print(grouped_df)"
   ]
  },
  {
   "cell_type": "markdown",
   "metadata": {},
   "source": [
    "Group by film, isolate the `words` column, and then calculate the sum total for every column."
   ]
  },
  {
   "cell_type": "code",
   "execution_count": 98,
   "metadata": {},
   "outputs": [
    {
     "name": "stdout",
     "output_type": "stream",
     "text": [
      "                            release_year  words  proportion_of_dialogue  \\\n",
      "title                                                                     \n",
      "(500) Days of Summer               26117  18500                     1.0   \n",
      "10 Things I Hate About You         23988  19680                     1.0   \n",
      "12 Years a Slave                   56364  19628                     1.0   \n",
      "12 and Holding                     30075  15968                     1.0   \n",
      "127 Hours                           8040   5145                     1.0   \n",
      "...                                  ...    ...                     ...   \n",
      "Zero Effect                        13986  13927                     1.0   \n",
      "Zerophilia                         16040  16686                     1.0   \n",
      "Zodiac                             62217  14656                     1.0   \n",
      "eXistenZ                           17991   9447                     1.0   \n",
      "xXx                                18018   8285                     1.0   \n",
      "\n",
      "                               age   gross  script_id  \n",
      "title                                                  \n",
      "(500) Days of Summer         378.0   481.0      19942  \n",
      "10 Things I Hate About You   307.0   780.0      18144  \n",
      "12 Years a Slave             712.0  1680.0      42476  \n",
      "12 and Holding               513.0     0.0      22710  \n",
      "127 Hours                    114.0    80.0       6080  \n",
      "...                            ...     ...        ...  \n",
      "Zero Effect                  227.0    21.0      57106  \n",
      "Zerophilia                   160.0     0.0      30144  \n",
      "Zodiac                      1071.0  1271.0     201221  \n",
      "eXistenZ                     309.0    36.0      62757  \n",
      "xXx                          283.0  1899.0      13473  \n",
      "\n",
      "[1994 rows x 6 columns]\n"
     ]
    }
   ],
   "source": [
    "newgrouped_df = film_df.groupby('title')['words'].sum().reset_index()\n",
    "print(grouped_df)"
   ]
  },
  {
   "cell_type": "markdown",
   "metadata": {},
   "source": [
    "Group by film AND gender, isolate the column `words`, and then calculate the sum total for every column.\n",
    "\n",
    "*Note: Remember that to group by multiple columns, you need to put the column names in square brackets `[]`.*"
   ]
  },
  {
   "cell_type": "code",
   "execution_count": 99,
   "metadata": {},
   "outputs": [
    {
     "name": "stdout",
     "output_type": "stream",
     "text": [
      "                           title gender  words\n",
      "0           (500) Days of Summer    man  12762\n",
      "1           (500) Days of Summer  woman   5738\n",
      "2     10 Things I Hate About You    man  10688\n",
      "3     10 Things I Hate About You  woman   8992\n",
      "4               12 Years a Slave    man  16176\n",
      "...                          ...    ...    ...\n",
      "3931                      Zodiac  woman   1421\n",
      "3932                    eXistenZ    man   5695\n",
      "3933                    eXistenZ  woman   3752\n",
      "3934                         xXx    man   7287\n",
      "3935                         xXx  woman    998\n",
      "\n",
      "[3936 rows x 3 columns]\n"
     ]
    }
   ],
   "source": [
    "grouped_df = film_df.groupby(['title', 'gender'])['words'].sum().reset_index()\n",
    "print(grouped_df)"
   ]
  },
  {
   "cell_type": "markdown",
   "metadata": {},
   "source": [
    "## Filter, Then Groupby"
   ]
  },
  {
   "cell_type": "markdown",
   "metadata": {},
   "source": [
    "Filter the DataFrame for only characters labeled as `woman`"
   ]
  },
  {
   "cell_type": "code",
   "execution_count": 102,
   "metadata": {},
   "outputs": [
    {
     "name": "stdout",
     "output_type": "stream",
     "text": [
      "0         True\n",
      "1         True\n",
      "2         True\n",
      "3         True\n",
      "4         True\n",
      "         ...  \n",
      "23042    False\n",
      "23043    False\n",
      "23044    False\n",
      "23045     True\n",
      "23046     True\n",
      "Name: gender, Length: 23031, dtype: bool\n"
     ]
    }
   ],
   "source": [
    "women_filter = film_df['gender'] == 'woman'\n"
   ]
  },
  {
   "cell_type": "code",
   "execution_count": 107,
   "metadata": {},
   "outputs": [
    {
     "name": "stdout",
     "output_type": "stream",
     "text": [
      "                               title  release_year        character gender  \\\n",
      "0      The Bridges of Madison County          1995            Betty  woman   \n",
      "1      The Bridges of Madison County          1995  Carolyn Johnson  woman   \n",
      "2      The Bridges of Madison County          1995          Eleanor  woman   \n",
      "3      The Bridges of Madison County          1995  Francesca Johns  woman   \n",
      "4      The Bridges of Madison County          1995            Madge  woman   \n",
      "...                              ...           ...              ...    ...   \n",
      "23027                      Let Me In          2010     Girl In Pool  woman   \n",
      "23033                      Let Me In          2010    Owen'S Mother  woman   \n",
      "23037           Beauty and the Beast          1991            Belle  woman   \n",
      "23045           Beauty and the Beast          1991       Mrs. Potts  woman   \n",
      "23046           Beauty and the Beast          1991         Wardrobe  woman   \n",
      "\n",
      "       words  proportion_of_dialogue   age  gross  script_id  \n",
      "0        311                0.048639  35.0  142.0        280  \n",
      "1        873                0.136534   NaN  142.0        280  \n",
      "2        138                0.021583   NaN  142.0        280  \n",
      "3       2251                0.352049  46.0  142.0        280  \n",
      "4        190                0.029715  46.0  142.0        280  \n",
      "...      ...                     ...   ...    ...        ...  \n",
      "23027    118                0.035192   NaN   13.0       9253  \n",
      "23033    286                0.085297  39.0   13.0       9253  \n",
      "23037   2183                0.214883  35.0  452.0       9254  \n",
      "23045    564                0.055517  66.0  452.0       9254  \n",
      "23046    121                0.011911  54.0  452.0       9254  \n",
      "\n",
      "[6907 rows x 9 columns]\n"
     ]
    }
   ],
   "source": [
    "women_film_df = film_df[women_filter]\n",
    "print(women_film_df)"
   ]
  },
  {
   "cell_type": "markdown",
   "metadata": {},
   "source": [
    "Filter the DataFrame for only characters labeled as `man`"
   ]
  },
  {
   "cell_type": "code",
   "execution_count": 104,
   "metadata": {},
   "outputs": [],
   "source": [
    "men_filter = film_df['gender'] == 'man'"
   ]
  },
  {
   "cell_type": "code",
   "execution_count": 106,
   "metadata": {},
   "outputs": [
    {
     "name": "stdout",
     "output_type": "stream",
     "text": [
      "                               title  release_year        character gender  \\\n",
      "5      The Bridges of Madison County          1995  Michael Johnson    man   \n",
      "6      The Bridges of Madison County          1995   Robert Kincaid    man   \n",
      "7                         15 Minutes          2001     Bobby Korfin    man   \n",
      "9                         15 Minutes          2001  Deputy Chief Fi    man   \n",
      "10                        15 Minutes          2001  Detective Eddie    man   \n",
      "...                              ...           ...              ...    ...   \n",
      "23040           Beauty and the Beast          1991           Gaston    man   \n",
      "23041           Beauty and the Beast          1991            Lefou    man   \n",
      "23042           Beauty and the Beast          1991          Lumiere    man   \n",
      "23043           Beauty and the Beast          1991          Maurice    man   \n",
      "23044           Beauty and the Beast          1991  Monsieur D'Arqu    man   \n",
      "\n",
      "       words  proportion_of_dialogue   age  gross  script_id  \n",
      "5        723                0.113075  38.0  142.0        280  \n",
      "6       1908                0.298405  65.0  142.0        280  \n",
      "7        328                0.036012   NaN   37.0        623  \n",
      "9        347                0.038098   NaN   37.0        623  \n",
      "10      2020                0.221783  58.0   37.0        623  \n",
      "...      ...                     ...   ...    ...        ...  \n",
      "23040   1326                0.130525  38.0  452.0       9254  \n",
      "23041    415                0.040850   NaN  452.0       9254  \n",
      "23042   1063                0.104636  56.0  452.0       9254  \n",
      "23043   1107                0.108967  71.0  452.0       9254  \n",
      "23044    114                0.011222  58.0  452.0       9254  \n",
      "\n",
      "[16119 rows x 9 columns]\n"
     ]
    }
   ],
   "source": [
    "men_film_df = film_df[men_filter]\n",
    "print(men_film_df)"
   ]
  },
  {
   "cell_type": "markdown",
   "metadata": {},
   "source": [
    "Now group `women_film_df` by film, isolate the `words` column, and sum the `words` spoken by women."
   ]
  },
  {
   "cell_type": "code",
   "execution_count": 108,
   "metadata": {},
   "outputs": [
    {
     "data": {
      "text/plain": [
       "title\n",
       "(500) Days of Summer          5738\n",
       "10 Things I Hate About You    8992\n",
       "12 Years a Slave              3452\n",
       "12 and Holding                5324\n",
       "127 Hours                      809\n",
       "                              ... \n",
       "Zero Effect                   2216\n",
       "Zerophilia                    4612\n",
       "Zodiac                        1421\n",
       "eXistenZ                      3752\n",
       "xXx                            998\n",
       "Name: words, Length: 1940, dtype: int64"
      ]
     },
     "execution_count": 108,
     "metadata": {},
     "output_type": "execute_result"
    }
   ],
   "source": [
    "women_film_df.groupby('title')['words'].sum()"
   ]
  },
  {
   "cell_type": "markdown",
   "metadata": {},
   "source": [
    "Assign this Series to a new variable `women_by_film`"
   ]
  },
  {
   "cell_type": "code",
   "execution_count": 109,
   "metadata": {},
   "outputs": [
    {
     "data": {
      "text/plain": [
       "title\n",
       "(500) Days of Summer          5738\n",
       "10 Things I Hate About You    8992\n",
       "12 Years a Slave              3452\n",
       "12 and Holding                5324\n",
       "127 Hours                      809\n",
       "                              ... \n",
       "Zero Effect                   2216\n",
       "Zerophilia                    4612\n",
       "Zodiac                        1421\n",
       "eXistenZ                      3752\n",
       "xXx                            998\n",
       "Name: words, Length: 1940, dtype: int64"
      ]
     },
     "execution_count": 109,
     "metadata": {},
     "output_type": "execute_result"
    }
   ],
   "source": [
    "women_by_film = women_film_df.groupby('title')['words'].sum()\n",
    "women_by_film"
   ]
  },
  {
   "cell_type": "markdown",
   "metadata": {},
   "source": [
    "Using the same construction, make a new another new variable `men_by_film`"
   ]
  },
  {
   "cell_type": "code",
   "execution_count": 110,
   "metadata": {},
   "outputs": [
    {
     "data": {
      "text/plain": [
       "title\n",
       "(500) Days of Summer          12762\n",
       "10 Things I Hate About You    10688\n",
       "12 Years a Slave              16176\n",
       "12 and Holding                10644\n",
       "127 Hours                      4336\n",
       "                              ...  \n",
       "Zero Effect                   11711\n",
       "Zerophilia                    12074\n",
       "Zodiac                        13235\n",
       "eXistenZ                       5695\n",
       "xXx                            7287\n",
       "Name: words, Length: 1992, dtype: int64"
      ]
     },
     "execution_count": 110,
     "metadata": {},
     "output_type": "execute_result"
    }
   ],
   "source": [
    "men_by_film = men_film_df.groupby('title')['words'].sum()\n",
    "men_by_film"
   ]
  },
  {
   "cell_type": "markdown",
   "metadata": {},
   "source": [
    "Sort `women_by_film` from the film with the most words to the film with the least words. Then examine the top 20 values."
   ]
  },
  {
   "cell_type": "code",
   "execution_count": 111,
   "metadata": {},
   "outputs": [
    {
     "data": {
      "text/plain": [
       "title\n",
       "Sex and the City               25184\n",
       "Stepmom                        25014\n",
       "Sense and Sensibility          23922\n",
       "The Help                       21540\n",
       "Beloved                        19594\n",
       "Ghost World                    18692\n",
       "Precious                       17536\n",
       "Juno                           17534\n",
       "Music of the Heart             17274\n",
       "Drag Me to Hell                17236\n",
       "Margaret                       17229\n",
       "Amelia                         17014\n",
       "The Horse Whisperer            16920\n",
       "Copycat                        16078\n",
       "Frances                        15978\n",
       "Agnes of God                   15732\n",
       "He's Just Not That Into You    15708\n",
       "An Education                   14330\n",
       "The Birds                      14284\n",
       "Wild at Heart                  14014\n",
       "Name: words, dtype: int64"
      ]
     },
     "execution_count": 111,
     "metadata": {},
     "output_type": "execute_result"
    }
   ],
   "source": [
    "women_by_film.sort_values(ascending=False)[:20]"
   ]
  },
  {
   "cell_type": "markdown",
   "metadata": {},
   "source": [
    "Assign this sorted list of movies to the variable `top20_women`"
   ]
  },
  {
   "cell_type": "code",
   "execution_count": 112,
   "metadata": {},
   "outputs": [
    {
     "data": {
      "text/plain": [
       "title\n",
       "Sex and the City               25184\n",
       "Stepmom                        25014\n",
       "Sense and Sensibility          23922\n",
       "The Help                       21540\n",
       "Beloved                        19594\n",
       "Ghost World                    18692\n",
       "Precious                       17536\n",
       "Juno                           17534\n",
       "Music of the Heart             17274\n",
       "Drag Me to Hell                17236\n",
       "Margaret                       17229\n",
       "Amelia                         17014\n",
       "The Horse Whisperer            16920\n",
       "Copycat                        16078\n",
       "Frances                        15978\n",
       "Agnes of God                   15732\n",
       "He's Just Not That Into You    15708\n",
       "An Education                   14330\n",
       "The Birds                      14284\n",
       "Wild at Heart                  14014\n",
       "Name: words, dtype: int64"
      ]
     },
     "execution_count": 112,
     "metadata": {},
     "output_type": "execute_result"
    }
   ],
   "source": [
    "top20_women = women_by_film.sort_values(ascending=False)[:20]\n",
    "top20_women"
   ]
  },
  {
   "cell_type": "markdown",
   "metadata": {},
   "source": [
    "Using the same construction, make a new variable `top20_men`"
   ]
  },
  {
   "cell_type": "code",
   "execution_count": 113,
   "metadata": {},
   "outputs": [
    {
     "data": {
      "text/plain": [
       "title\n",
       "Casino                    57944\n",
       "JFK                       50752\n",
       "A Few Good Men            36484\n",
       "Funny People              36278\n",
       "Magnolia                  33024\n",
       "High Fidelity             31114\n",
       "The Dark Knight           30290\n",
       "Troy                      29712\n",
       "Gran Torino               29092\n",
       "Life                      27748\n",
       "Observe and Report        27534\n",
       "Apt Pupil                 27428\n",
       "Analyze This              26548\n",
       "The Hangover              26538\n",
       "Mr. Deeds Goes to Town    26508\n",
       "Wall Street               26440\n",
       "Jackie Brown              25984\n",
       "Sling Blade               24964\n",
       "Meet John Doe             24520\n",
       "Clerks                    24428\n",
       "Name: words, dtype: int64"
      ]
     },
     "execution_count": 113,
     "metadata": {},
     "output_type": "execute_result"
    }
   ],
   "source": [
    "top20_men = men_by_film.sort_values(ascending=False)[:20]\n",
    "top20_men"
   ]
  },
  {
   "cell_type": "markdown",
   "metadata": {},
   "source": [
    "### ❓ What patterns do you notice here? What surprises you or doesn't surprise you?\n",
    "I noticed that women typically have the most lines in rom coms, and the least lines in ation movies and comedies. This doesn't suprise me because those movie categories have unfortunately been historically male-dominated. I was suprised that men ahve so mabny more lines in 10 Things I Hate About You than women, because the movie was heavily advertized towards women."
   ]
  },
  {
   "cell_type": "markdown",
   "metadata": {},
   "source": [
    "## Saving Plots"
   ]
  },
  {
   "cell_type": "markdown",
   "metadata": {},
   "source": [
    "Make a bar chart of `top20_women`. Give the chart a title, and specify a color."
   ]
  },
  {
   "cell_type": "code",
   "execution_count": 136,
   "metadata": {},
   "outputs": [
    {
     "data": {
      "image/png": "[encoded data removed]",
      "text/plain": [
       "<Figure size 640x480 with 1 Axes>"
      ]
     },
     "metadata": {},
     "output_type": "display_data"
    }
   ],
   "source": [
    "import matplotlib.pyplot as plt\n",
    "top20_women = women_by_film.sort_values(ascending=False)[:20]\n",
    "ax = top20_women.plot(kind='bar', x='character', y='words', color='pink')\n",
    "plt.title(\"Top 20 Movies by Women's Dialougue\")\n",
    "plt.xlabel(\"Movie\")\n",
    "plt.ylabel(\"Words\")\n",
    "plt.show()"
   ]
  },
  {
   "cell_type": "markdown",
   "metadata": {},
   "source": [
    "To save the plot, you can use `ax.figure.savefig()` and the name of the file in quotation marks."
   ]
  },
  {
   "cell_type": "code",
   "execution_count": 137,
   "metadata": {},
   "outputs": [
    {
     "data": {
      "image/png": "[encoded data removed]",
      "text/plain": [
       "<Figure size 640x480 with 1 Axes>"
      ]
     },
     "metadata": {},
     "output_type": "display_data"
    }
   ],
   "source": [
    "ax = top20_women.plot(kind='bar', x='character', y='words', color='pink')\n",
    "plt.title(\"Top 20 Movies by Women's Dialougue\")\n",
    "plt.xlabel(\"Movie\")\n",
    "plt.ylabel(\"Words\")\n",
    "plt.show()\n",
    "ax.figure.savefig('./figures/top20_women.png')"
   ]
  },
  {
   "cell_type": "markdown",
   "metadata": {},
   "source": [
    "Look in the file browser on the left and double click the PNG file. How does it look? Uh oh!\n",
    "\n",
    "Sometimes parts of a plot will get cut off when you save it. To fix this issue, you can use a function from the Matplotlib library called `plt.tight_layout()`, which will adjust the plot before you save it.\n",
    "\n",
    "To use this function, you need to `import matplotlib.pyplot as plt`."
   ]
  },
  {
   "cell_type": "code",
   "execution_count": 138,
   "metadata": {},
   "outputs": [
    {
     "data": {
      "image/png": "[encoded data removed]",
      "text/plain": [
       "<Figure size 640x480 with 1 Axes>"
      ]
     },
     "metadata": {},
     "output_type": "display_data"
    }
   ],
   "source": [
    "import matplotlib.pyplot as plt\n",
    "\n",
    "ax = top20_women.plot(kind='bar')\n",
    "plt.tight_layout()\n",
    "ax.figure.savefig('top20_women.png')"
   ]
  },
  {
   "cell_type": "markdown",
   "metadata": {},
   "source": [
    "## Scatter Plots and Line Plots"
   ]
  },
  {
   "cell_type": "markdown",
   "metadata": {},
   "source": [
    "Let's make a scatter plot that shows how many words women and men speak based on their age."
   ]
  },
  {
   "cell_type": "code",
   "execution_count": 139,
   "metadata": {
    "scrolled": true
   },
   "outputs": [
    {
     "data": {
      "text/html": [
       "<div>\n",
       "<style scoped>\n",
       "    .dataframe tbody tr th:only-of-type {\n",
       "        vertical-align: middle;\n",
       "    }\n",
       "\n",
       "    .dataframe tbody tr th {\n",
       "        vertical-align: top;\n",
       "    }\n",
       "\n",
       "    .dataframe thead th {\n",
       "        text-align: right;\n",
       "    }\n",
       "</style>\n",
       "<table border=\"1\" class=\"dataframe\">\n",
       "  <thead>\n",
       "    <tr style=\"text-align: right;\">\n",
       "      <th></th>\n",
       "      <th>age</th>\n",
       "      <th>words</th>\n",
       "    </tr>\n",
       "  </thead>\n",
       "  <tbody>\n",
       "    <tr>\n",
       "      <th>0</th>\n",
       "      <td>4.0</td>\n",
       "      <td>272</td>\n",
       "    </tr>\n",
       "    <tr>\n",
       "      <th>1</th>\n",
       "      <td>5.0</td>\n",
       "      <td>132</td>\n",
       "    </tr>\n",
       "    <tr>\n",
       "      <th>2</th>\n",
       "      <td>6.0</td>\n",
       "      <td>2406</td>\n",
       "    </tr>\n",
       "    <tr>\n",
       "      <th>3</th>\n",
       "      <td>7.0</td>\n",
       "      <td>8158</td>\n",
       "    </tr>\n",
       "    <tr>\n",
       "      <th>4</th>\n",
       "      <td>8.0</td>\n",
       "      <td>3260</td>\n",
       "    </tr>\n",
       "    <tr>\n",
       "      <th>5</th>\n",
       "      <td>9.0</td>\n",
       "      <td>6540</td>\n",
       "    </tr>\n",
       "    <tr>\n",
       "      <th>6</th>\n",
       "      <td>10.0</td>\n",
       "      <td>11771</td>\n",
       "    </tr>\n",
       "    <tr>\n",
       "      <th>7</th>\n",
       "      <td>11.0</td>\n",
       "      <td>11462</td>\n",
       "    </tr>\n",
       "    <tr>\n",
       "      <th>8</th>\n",
       "      <td>12.0</td>\n",
       "      <td>17316</td>\n",
       "    </tr>\n",
       "    <tr>\n",
       "      <th>9</th>\n",
       "      <td>13.0</td>\n",
       "      <td>12580</td>\n",
       "    </tr>\n",
       "    <tr>\n",
       "      <th>10</th>\n",
       "      <td>14.0</td>\n",
       "      <td>30978</td>\n",
       "    </tr>\n",
       "    <tr>\n",
       "      <th>11</th>\n",
       "      <td>15.0</td>\n",
       "      <td>16753</td>\n",
       "    </tr>\n",
       "    <tr>\n",
       "      <th>12</th>\n",
       "      <td>16.0</td>\n",
       "      <td>15125</td>\n",
       "    </tr>\n",
       "    <tr>\n",
       "      <th>13</th>\n",
       "      <td>17.0</td>\n",
       "      <td>51960</td>\n",
       "    </tr>\n",
       "    <tr>\n",
       "      <th>14</th>\n",
       "      <td>18.0</td>\n",
       "      <td>65895</td>\n",
       "    </tr>\n",
       "    <tr>\n",
       "      <th>15</th>\n",
       "      <td>19.0</td>\n",
       "      <td>75581</td>\n",
       "    </tr>\n",
       "    <tr>\n",
       "      <th>16</th>\n",
       "      <td>20.0</td>\n",
       "      <td>91191</td>\n",
       "    </tr>\n",
       "    <tr>\n",
       "      <th>17</th>\n",
       "      <td>21.0</td>\n",
       "      <td>88340</td>\n",
       "    </tr>\n",
       "    <tr>\n",
       "      <th>18</th>\n",
       "      <td>22.0</td>\n",
       "      <td>119782</td>\n",
       "    </tr>\n",
       "    <tr>\n",
       "      <th>19</th>\n",
       "      <td>23.0</td>\n",
       "      <td>189543</td>\n",
       "    </tr>\n",
       "    <tr>\n",
       "      <th>20</th>\n",
       "      <td>24.0</td>\n",
       "      <td>156862</td>\n",
       "    </tr>\n",
       "    <tr>\n",
       "      <th>21</th>\n",
       "      <td>25.0</td>\n",
       "      <td>200371</td>\n",
       "    </tr>\n",
       "    <tr>\n",
       "      <th>22</th>\n",
       "      <td>26.0</td>\n",
       "      <td>212245</td>\n",
       "    </tr>\n",
       "    <tr>\n",
       "      <th>23</th>\n",
       "      <td>27.0</td>\n",
       "      <td>196433</td>\n",
       "    </tr>\n",
       "    <tr>\n",
       "      <th>24</th>\n",
       "      <td>28.0</td>\n",
       "      <td>214608</td>\n",
       "    </tr>\n",
       "    <tr>\n",
       "      <th>25</th>\n",
       "      <td>29.0</td>\n",
       "      <td>229375</td>\n",
       "    </tr>\n",
       "    <tr>\n",
       "      <th>26</th>\n",
       "      <td>30.0</td>\n",
       "      <td>215189</td>\n",
       "    </tr>\n",
       "    <tr>\n",
       "      <th>27</th>\n",
       "      <td>31.0</td>\n",
       "      <td>199967</td>\n",
       "    </tr>\n",
       "    <tr>\n",
       "      <th>28</th>\n",
       "      <td>32.0</td>\n",
       "      <td>202468</td>\n",
       "    </tr>\n",
       "    <tr>\n",
       "      <th>29</th>\n",
       "      <td>33.0</td>\n",
       "      <td>257087</td>\n",
       "    </tr>\n",
       "    <tr>\n",
       "      <th>30</th>\n",
       "      <td>34.0</td>\n",
       "      <td>212368</td>\n",
       "    </tr>\n",
       "    <tr>\n",
       "      <th>31</th>\n",
       "      <td>35.0</td>\n",
       "      <td>192014</td>\n",
       "    </tr>\n",
       "    <tr>\n",
       "      <th>32</th>\n",
       "      <td>36.0</td>\n",
       "      <td>150284</td>\n",
       "    </tr>\n",
       "    <tr>\n",
       "      <th>33</th>\n",
       "      <td>37.0</td>\n",
       "      <td>191203</td>\n",
       "    </tr>\n",
       "    <tr>\n",
       "      <th>34</th>\n",
       "      <td>38.0</td>\n",
       "      <td>143804</td>\n",
       "    </tr>\n",
       "    <tr>\n",
       "      <th>35</th>\n",
       "      <td>39.0</td>\n",
       "      <td>120319</td>\n",
       "    </tr>\n",
       "    <tr>\n",
       "      <th>36</th>\n",
       "      <td>40.0</td>\n",
       "      <td>127718</td>\n",
       "    </tr>\n",
       "    <tr>\n",
       "      <th>37</th>\n",
       "      <td>41.0</td>\n",
       "      <td>108122</td>\n",
       "    </tr>\n",
       "    <tr>\n",
       "      <th>38</th>\n",
       "      <td>42.0</td>\n",
       "      <td>83821</td>\n",
       "    </tr>\n",
       "    <tr>\n",
       "      <th>39</th>\n",
       "      <td>43.0</td>\n",
       "      <td>116319</td>\n",
       "    </tr>\n",
       "    <tr>\n",
       "      <th>40</th>\n",
       "      <td>44.0</td>\n",
       "      <td>84057</td>\n",
       "    </tr>\n",
       "    <tr>\n",
       "      <th>41</th>\n",
       "      <td>45.0</td>\n",
       "      <td>81205</td>\n",
       "    </tr>\n",
       "    <tr>\n",
       "      <th>42</th>\n",
       "      <td>46.0</td>\n",
       "      <td>93950</td>\n",
       "    </tr>\n",
       "    <tr>\n",
       "      <th>43</th>\n",
       "      <td>47.0</td>\n",
       "      <td>50311</td>\n",
       "    </tr>\n",
       "    <tr>\n",
       "      <th>44</th>\n",
       "      <td>48.0</td>\n",
       "      <td>73903</td>\n",
       "    </tr>\n",
       "    <tr>\n",
       "      <th>45</th>\n",
       "      <td>49.0</td>\n",
       "      <td>41492</td>\n",
       "    </tr>\n",
       "    <tr>\n",
       "      <th>46</th>\n",
       "      <td>50.0</td>\n",
       "      <td>53645</td>\n",
       "    </tr>\n",
       "    <tr>\n",
       "      <th>47</th>\n",
       "      <td>51.0</td>\n",
       "      <td>35212</td>\n",
       "    </tr>\n",
       "    <tr>\n",
       "      <th>48</th>\n",
       "      <td>52.0</td>\n",
       "      <td>49020</td>\n",
       "    </tr>\n",
       "    <tr>\n",
       "      <th>49</th>\n",
       "      <td>53.0</td>\n",
       "      <td>36588</td>\n",
       "    </tr>\n",
       "    <tr>\n",
       "      <th>50</th>\n",
       "      <td>54.0</td>\n",
       "      <td>51797</td>\n",
       "    </tr>\n",
       "    <tr>\n",
       "      <th>51</th>\n",
       "      <td>55.0</td>\n",
       "      <td>23539</td>\n",
       "    </tr>\n",
       "    <tr>\n",
       "      <th>52</th>\n",
       "      <td>56.0</td>\n",
       "      <td>22243</td>\n",
       "    </tr>\n",
       "    <tr>\n",
       "      <th>53</th>\n",
       "      <td>57.0</td>\n",
       "      <td>23712</td>\n",
       "    </tr>\n",
       "    <tr>\n",
       "      <th>54</th>\n",
       "      <td>58.0</td>\n",
       "      <td>23403</td>\n",
       "    </tr>\n",
       "    <tr>\n",
       "      <th>55</th>\n",
       "      <td>59.0</td>\n",
       "      <td>22437</td>\n",
       "    </tr>\n",
       "    <tr>\n",
       "      <th>56</th>\n",
       "      <td>60.0</td>\n",
       "      <td>26981</td>\n",
       "    </tr>\n",
       "    <tr>\n",
       "      <th>57</th>\n",
       "      <td>61.0</td>\n",
       "      <td>20807</td>\n",
       "    </tr>\n",
       "    <tr>\n",
       "      <th>58</th>\n",
       "      <td>62.0</td>\n",
       "      <td>27634</td>\n",
       "    </tr>\n",
       "    <tr>\n",
       "      <th>59</th>\n",
       "      <td>63.0</td>\n",
       "      <td>15480</td>\n",
       "    </tr>\n",
       "    <tr>\n",
       "      <th>60</th>\n",
       "      <td>64.0</td>\n",
       "      <td>20937</td>\n",
       "    </tr>\n",
       "    <tr>\n",
       "      <th>61</th>\n",
       "      <td>65.0</td>\n",
       "      <td>10651</td>\n",
       "    </tr>\n",
       "    <tr>\n",
       "      <th>62</th>\n",
       "      <td>66.0</td>\n",
       "      <td>17886</td>\n",
       "    </tr>\n",
       "    <tr>\n",
       "      <th>63</th>\n",
       "      <td>67.0</td>\n",
       "      <td>12602</td>\n",
       "    </tr>\n",
       "    <tr>\n",
       "      <th>64</th>\n",
       "      <td>68.0</td>\n",
       "      <td>6341</td>\n",
       "    </tr>\n",
       "    <tr>\n",
       "      <th>65</th>\n",
       "      <td>69.0</td>\n",
       "      <td>11874</td>\n",
       "    </tr>\n",
       "    <tr>\n",
       "      <th>66</th>\n",
       "      <td>70.0</td>\n",
       "      <td>13405</td>\n",
       "    </tr>\n",
       "    <tr>\n",
       "      <th>67</th>\n",
       "      <td>71.0</td>\n",
       "      <td>6573</td>\n",
       "    </tr>\n",
       "    <tr>\n",
       "      <th>68</th>\n",
       "      <td>72.0</td>\n",
       "      <td>9110</td>\n",
       "    </tr>\n",
       "    <tr>\n",
       "      <th>69</th>\n",
       "      <td>73.0</td>\n",
       "      <td>3932</td>\n",
       "    </tr>\n",
       "    <tr>\n",
       "      <th>70</th>\n",
       "      <td>74.0</td>\n",
       "      <td>6216</td>\n",
       "    </tr>\n",
       "    <tr>\n",
       "      <th>71</th>\n",
       "      <td>75.0</td>\n",
       "      <td>11816</td>\n",
       "    </tr>\n",
       "    <tr>\n",
       "      <th>72</th>\n",
       "      <td>76.0</td>\n",
       "      <td>6779</td>\n",
       "    </tr>\n",
       "    <tr>\n",
       "      <th>73</th>\n",
       "      <td>77.0</td>\n",
       "      <td>10377</td>\n",
       "    </tr>\n",
       "    <tr>\n",
       "      <th>74</th>\n",
       "      <td>78.0</td>\n",
       "      <td>7750</td>\n",
       "    </tr>\n",
       "    <tr>\n",
       "      <th>75</th>\n",
       "      <td>79.0</td>\n",
       "      <td>7306</td>\n",
       "    </tr>\n",
       "    <tr>\n",
       "      <th>76</th>\n",
       "      <td>80.0</td>\n",
       "      <td>789</td>\n",
       "    </tr>\n",
       "    <tr>\n",
       "      <th>77</th>\n",
       "      <td>81.0</td>\n",
       "      <td>5659</td>\n",
       "    </tr>\n",
       "    <tr>\n",
       "      <th>78</th>\n",
       "      <td>82.0</td>\n",
       "      <td>3613</td>\n",
       "    </tr>\n",
       "    <tr>\n",
       "      <th>79</th>\n",
       "      <td>83.0</td>\n",
       "      <td>535</td>\n",
       "    </tr>\n",
       "    <tr>\n",
       "      <th>80</th>\n",
       "      <td>84.0</td>\n",
       "      <td>2075</td>\n",
       "    </tr>\n",
       "    <tr>\n",
       "      <th>81</th>\n",
       "      <td>85.0</td>\n",
       "      <td>4669</td>\n",
       "    </tr>\n",
       "    <tr>\n",
       "      <th>82</th>\n",
       "      <td>86.0</td>\n",
       "      <td>1307</td>\n",
       "    </tr>\n",
       "    <tr>\n",
       "      <th>83</th>\n",
       "      <td>87.0</td>\n",
       "      <td>2702</td>\n",
       "    </tr>\n",
       "    <tr>\n",
       "      <th>84</th>\n",
       "      <td>88.0</td>\n",
       "      <td>510</td>\n",
       "    </tr>\n",
       "    <tr>\n",
       "      <th>85</th>\n",
       "      <td>90.0</td>\n",
       "      <td>389</td>\n",
       "    </tr>\n",
       "    <tr>\n",
       "      <th>86</th>\n",
       "      <td>92.0</td>\n",
       "      <td>359</td>\n",
       "    </tr>\n",
       "  </tbody>\n",
       "</table>\n",
       "</div>"
      ],
      "text/plain": [
       "     age   words\n",
       "0    4.0     272\n",
       "1    5.0     132\n",
       "2    6.0    2406\n",
       "3    7.0    8158\n",
       "4    8.0    3260\n",
       "5    9.0    6540\n",
       "6   10.0   11771\n",
       "7   11.0   11462\n",
       "8   12.0   17316\n",
       "9   13.0   12580\n",
       "10  14.0   30978\n",
       "11  15.0   16753\n",
       "12  16.0   15125\n",
       "13  17.0   51960\n",
       "14  18.0   65895\n",
       "15  19.0   75581\n",
       "16  20.0   91191\n",
       "17  21.0   88340\n",
       "18  22.0  119782\n",
       "19  23.0  189543\n",
       "20  24.0  156862\n",
       "21  25.0  200371\n",
       "22  26.0  212245\n",
       "23  27.0  196433\n",
       "24  28.0  214608\n",
       "25  29.0  229375\n",
       "26  30.0  215189\n",
       "27  31.0  199967\n",
       "28  32.0  202468\n",
       "29  33.0  257087\n",
       "30  34.0  212368\n",
       "31  35.0  192014\n",
       "32  36.0  150284\n",
       "33  37.0  191203\n",
       "34  38.0  143804\n",
       "35  39.0  120319\n",
       "36  40.0  127718\n",
       "37  41.0  108122\n",
       "38  42.0   83821\n",
       "39  43.0  116319\n",
       "40  44.0   84057\n",
       "41  45.0   81205\n",
       "42  46.0   93950\n",
       "43  47.0   50311\n",
       "44  48.0   73903\n",
       "45  49.0   41492\n",
       "46  50.0   53645\n",
       "47  51.0   35212\n",
       "48  52.0   49020\n",
       "49  53.0   36588\n",
       "50  54.0   51797\n",
       "51  55.0   23539\n",
       "52  56.0   22243\n",
       "53  57.0   23712\n",
       "54  58.0   23403\n",
       "55  59.0   22437\n",
       "56  60.0   26981\n",
       "57  61.0   20807\n",
       "58  62.0   27634\n",
       "59  63.0   15480\n",
       "60  64.0   20937\n",
       "61  65.0   10651\n",
       "62  66.0   17886\n",
       "63  67.0   12602\n",
       "64  68.0    6341\n",
       "65  69.0   11874\n",
       "66  70.0   13405\n",
       "67  71.0    6573\n",
       "68  72.0    9110\n",
       "69  73.0    3932\n",
       "70  74.0    6216\n",
       "71  75.0   11816\n",
       "72  76.0    6779\n",
       "73  77.0   10377\n",
       "74  78.0    7750\n",
       "75  79.0    7306\n",
       "76  80.0     789\n",
       "77  81.0    5659\n",
       "78  82.0    3613\n",
       "79  83.0     535\n",
       "80  84.0    2075\n",
       "81  85.0    4669\n",
       "82  86.0    1307\n",
       "83  87.0    2702\n",
       "84  88.0     510\n",
       "85  90.0     389\n",
       "86  92.0     359"
      ]
     },
     "execution_count": 139,
     "metadata": {},
     "output_type": "execute_result"
    }
   ],
   "source": [
    "women_film_df.groupby('age')['words'].sum().reset_index()"
   ]
  },
  {
   "cell_type": "code",
   "execution_count": 140,
   "metadata": {
    "scrolled": true
   },
   "outputs": [],
   "source": [
    "women_age_words = women_film_df.groupby('age')['words'].sum().reset_index()"
   ]
  },
  {
   "cell_type": "code",
   "execution_count": 141,
   "metadata": {},
   "outputs": [],
   "source": [
    "men_age_words = men_film_df.groupby('age')['words'].sum().reset_index()"
   ]
  },
  {
   "cell_type": "code",
   "execution_count": 142,
   "metadata": {},
   "outputs": [
    {
     "data": {
      "text/plain": [
       "<Axes: xlabel='age', ylabel='words'>"
      ]
     },
     "execution_count": 142,
     "metadata": {},
     "output_type": "execute_result"
    },
    {
     "data": {
      "image/png": "[encoded data removed]",
      "text/plain": [
       "<Figure size 640x480 with 1 Axes>"
      ]
     },
     "metadata": {},
     "output_type": "display_data"
    }
   ],
   "source": [
    "ax = women_age_words.plot(kind='scatter', x='age', y='words', color='red')\n",
    "men_age_words.plot(ax=ax, kind='scatter', x='age', y='words', color='blue')"
   ]
  },
  {
   "cell_type": "markdown",
   "metadata": {},
   "source": [
    "Now let's make a line plot of the exact same data. Copy and paste the code in the cell above and change it to produce a line plot instead of a scatter plot."
   ]
  },
  {
   "cell_type": "code",
   "execution_count": 143,
   "metadata": {},
   "outputs": [
    {
     "data": {
      "text/plain": [
       "<Axes: xlabel='age'>"
      ]
     },
     "execution_count": 143,
     "metadata": {},
     "output_type": "execute_result"
    },
    {
     "data": {
      "image/png": "[encoded data removed]",
      "text/plain": [
       "<Figure size 640x480 with 1 Axes>"
      ]
     },
     "metadata": {},
     "output_type": "display_data"
    }
   ],
   "source": [
    "ax = women_age_words.plot(kind='line', x='age', y='words', color='red')\n",
    "men_age_words.plot(ax=ax, kind='line', x='age', y='words', color='blue')"
   ]
  },
  {
   "cell_type": "markdown",
   "metadata": {},
   "source": [
    "## Reflection"
   ]
  },
  {
   "cell_type": "markdown",
   "metadata": {},
   "source": [
    "Write about 250-500 words in response to each question below."
   ]
  },
  {
   "cell_type": "markdown",
   "metadata": {},
   "source": [
    "### 1. Discuss your impressions of EDA techniques?\n"
   ]
  },
  {
   "cell_type": "markdown",
   "metadata": {},
   "source": [
    "I found EDA techniques to be incredibly useful. When using Panda, I had difficulty understanding how to pull variables and analysis. I kept receiving errors for small mistakes like misspelling variables and misspacing brackets. However, once I worked to better understand the system, I was amazed at how intuitive it is. Within seconds, I could produce an analysis of virtually any movie I could think of. I could filter based on gender, lines, date, or title. Then, I could produce a custom graphic displaying the data I pulled. It is incredible how easy and fast this process was. However, having mass amounts of data at one's fingertips can also be very overwhelming. This is why EDA techniques are so useful. When I was trying to find a pattern in the data, I had no idea where to start. There was simply too much of it for me to analyze or come to any conclusions about. Using EDA techniques, I pulled a random sample of the data. this way, it was much easier for me to identify a pattern: the newer a movie is, the more female dialogue there typically is. Without pulling a sample, I would not have been able to find any pattern within the incredibly large data set. "
   ]
  },
  {
   "cell_type": "markdown",
   "metadata": {},
   "source": [
    "### 2. What were some of the hurdles that you encountered moving through the EDA process?"
   ]
  },
  {
   "cell_type": "markdown",
   "metadata": {},
   "source": [
    "I encountered a lot of errors during this project. Initially, I kept receiving the error that I had not installed Pandas. After trying various fixes from online forums, I eventually fixed the problem by changing the Python base I was using. Once I was properly using Pandas, I had a lot of difficulty pulling up a specific movie for analysis. After rereading the notebook info, I realized it was because I wasn't specifying that the value I was looking for was in the \"title\" column. I also discovered that I needed to create a boolean mask to filter each row.  I also had difficulty organizing character word counts in the movie I chose. When I used my original code to specify the movie itself, It was much easier to extract character word counts. I had a lot of errors saying things were not defined, so I learned the importance of initializing important variables at the beginning of each task. I also frequently made the mistake of forgetting not to capitalize when pulling up columns like \"words\". I also mistake the \"title\" column for \"film\". To prevent such mistakes, I had to continuously reread each variable to ensure I was spelling it right. I also made sure to be very specific when creating names for new variables. This made revisiting them a lot easier and removed confusion about what each one was for."
   ]
  },
  {
   "cell_type": "markdown",
   "metadata": {},
   "source": []
  },
  {
   "cell_type": "markdown",
   "metadata": {},
   "source": [
    "### 3. Explain why you chose some of the variables and questions to pursue. Also, what questions would you explore next, and why."
   ]
  },
  {
   "cell_type": "markdown",
   "metadata": {},
   "source": [
    "For the dialogue portion of this assignment,  chose to study the Departed movie. I did so because it is one of my favorites. I have seen it many times and thought I had a good feel for the characters and their respective amount of dialogue. I also know this is a very male-dominated film, so I was curious to see just how little female dialogue there was in the film. Despite knowing it would be scarce I was pretty disappointed with how little dialogue the sole female character has. Madolyn plays an integral in both main characters' lives. She is the therapist of Will and the girlfriend of Colin. Yet, Madolyn has a mere 2,030 lines. This is less than half the lines of Frank Costello, William Costigan, and Colin Sullivan. I love action movies like The Departed, but the lack of diversity makes them bittersweet. After seeing this data, I am encouraged to think harder about the lack of diversity in my favorite movies. I still love The Departed, but I understand it is a product of the sexist atmosphere of its time. Next time, I would explore the correlation between movie genre and dialogue for people of color. Many dramatic movies like The Departed have a lack of racial diversity as well as gender diversity. I would use the EDA method to extract the top 20 movies with the least amount of dialogue from people of color Then I could identify a potential pattern in the genre of said movies. "
   ]
  }
 ],
 "metadata": {
  "kernelspec": {
   "display_name": "Python 3",
   "language": "python",
   "name": "python3"
  },
  "language_info": {
   "codemirror_mode": {
    "name": "ipython",
    "version": 3
   },
   "file_extension": ".py",
   "mimetype": "text/x-python",
   "name": "python",
   "nbconvert_exporter": "python",
   "pygments_lexer": "ipython3",
   "version": "3.11.4"
  }
 },
 "nbformat": 4,
 "nbformat_minor": 4
}
