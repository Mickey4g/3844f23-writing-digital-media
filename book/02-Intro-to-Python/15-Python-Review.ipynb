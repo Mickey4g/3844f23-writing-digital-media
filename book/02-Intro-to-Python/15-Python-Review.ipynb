{
 "cells": [
  {
   "cell_type": "markdown",
   "metadata": {},
   "source": [
    "## Python Review — Workbook"
   ]
  },
  {
   "cell_type": "markdown",
   "metadata": {},
   "source": [
    "Our goal is to make a function called `keyword_extractor()`, which will accept two arguments — a song and a keyword — and then return the lines from the song that contain a give keyword. We will practice on Phoebe Bridgers' song \"I Know the End.\""
   ]
  },
  {
   "cell_type": "code",
   "execution_count": 22,
   "metadata": {},
   "outputs": [],
   "source": [
    "pb_song = \"\"\"Somewhere in Germany, but I can't place it\n",
    "Man, I hate this part of Texas\n",
    "Close my eyes, fantasize\n",
    "Three clicks, and I'm home\n",
    "When I get back I'll lay around\n",
    "And I'll get up and lay back down\n",
    "Romanticize a quiet life\n",
    "There's no place like my room\n",
    "But you had to go\n",
    "I know, I know, I know\n",
    "Like a wave that crashed and melted on the shore\n",
    "Not even the burnouts are out here anymore\n",
    "And you had to go\n",
    "I know, I know, I know\n",
    "Out in the park, we watch the sunset\n",
    "Talking on a rusty swing set\n",
    "After awhile you went quiet, and I got mean\n",
    "I'm always pushing you away from me\n",
    "But you come back with gravity\n",
    "And when I call, you come home\n",
    "A bird in your teeth\n",
    "So I gotta go\n",
    "I know, I know, I know\n",
    "When the sirens sound, you'll hide under the floor\n",
    "But I'm not gonna go down with my hometown in a tornado\n",
    "I'm gonna chase it\n",
    "I know, I know, I know\n",
    "I gotta go now\n",
    "I know, I know, I know\n",
    "Driving out into the sun\n",
    "Let the ultraviolet cover me up\n",
    "Went looking for a creation myth\n",
    "Ended up with a pair of cracked lips\n",
    "Windows down, scream along\n",
    "To some America first rap, country song\n",
    "A slaughterhouse, an outlet mall\n",
    "Slot machines, fear of God\n",
    "Windows down, heater on\n",
    "Big bolts of lightning hanging low\n",
    "Over the coast, everyone's convinced\n",
    "It's a government drone or an alien spaceship\n",
    "Either way, we're not alone\n",
    "I'll find a new place to be from\n",
    "A haunted house with a picket fence\n",
    "To float around and ghost my friends\n",
    "No, I'm not afraid to disappear\n",
    "The billboard said, 'The end is near'\n",
    "I turned around, there was nothing there\n",
    "Yeah, I guess the end is here\n",
    "The end is here\n",
    "The end is here\n",
    "The end is here\n",
    "The end is here\"\"\""
   ]
  },
  {
   "cell_type": "markdown",
   "metadata": {},
   "source": [
    "## Step 1 — Start Small"
   ]
  },
  {
   "cell_type": "markdown",
   "metadata": {},
   "source": [
    "Before we make the function, let's simply print out the lines from `pb_song` (Phoebe Bridgers' \"I Know the End\") that match the keyword \n",
    "**\"home\"**.\n",
    "\n",
    "## Step 2 — Think About the Steps\n",
    "Take a minute and jot down the steps that we will need to take to complete this task."
   ]
  },
  {
   "cell_type": "markdown",
   "metadata": {},
   "source": [
    "I have to open the lyrics list and make a function that can scan through each line to determine if it has \"home\". Then I will use an \"if\" to print if the line contains home, or skip to analyzing the next line. "
   ]
  },
  {
   "cell_type": "markdown",
   "metadata": {},
   "source": [
    "## Step 3 — Sketch It Out With Code"
   ]
  },
  {
   "cell_type": "markdown",
   "metadata": {},
   "source": [
    "Now use Python code to print out the lines from `pb_song` (Phoebe Bridgers' \"I Know the End\") that match the keyword \n",
    "**\"home\"**."
   ]
  },
  {
   "cell_type": "code",
   "execution_count": 23,
   "metadata": {},
   "outputs": [],
   "source": [
    "\n",
    "\n",
    "\n",
    "word= \"home\"\n",
    "def printpho(word):\n",
    "    for line in pb_song:\n",
    "        if word in line:\n",
    "            print(line)  \n"
   ]
  },
  {
   "cell_type": "code",
   "execution_count": 24,
   "metadata": {},
   "outputs": [
    {
     "name": "stdout",
     "output_type": "stream",
     "text": [
      "<function printpho at 0x10c1ab1f0>\n"
     ]
    }
   ],
   "source": [
    "print(printpho)"
   ]
  },
  {
   "cell_type": "markdown",
   "metadata": {},
   "source": [
    "Now let's make a new list `matching_lines` that contains lines from `song` that match the keyword \"home\"."
   ]
  },
  {
   "cell_type": "code",
   "execution_count": 25,
   "metadata": {},
   "outputs": [],
   "source": [
    "word = \"home\"\n",
    "\n",
    "matching_lines = []\n",
    "\n",
    "for line in pb_song:\n",
    "    if word in line:\n",
    "        matching_lines.append(line.strip())  \n",
    "for line in matching_lines:\n",
    "    print(line)\n"
   ]
  },
  {
   "cell_type": "code",
   "execution_count": 26,
   "metadata": {},
   "outputs": [
    {
     "name": "stdout",
     "output_type": "stream",
     "text": [
      "[]\n"
     ]
    }
   ],
   "source": [
    "print(matching_lines)"
   ]
  },
  {
   "cell_type": "markdown",
   "metadata": {},
   "source": [
    "## Step 4 — Put It All Together"
   ]
  },
  {
   "cell_type": "code",
   "execution_count": 29,
   "metadata": {},
   "outputs": [],
   "source": [
    "def keyword_extractor(song_file, keyword):\n",
    "    matching_lines = []\n",
    "    with open(song_file, 'r') as lyrics_file:\n",
    "        song_lyrics = lyrics_file.readlines()\n",
    "\n",
    "    for line in song_lyrics:\n",
    "        if keyword in line:\n",
    "            matching_lines.append(line.strip()) \n",
    "    return matching_lines\n",
    "\n"
   ]
  },
  {
   "cell_type": "code",
   "execution_count": 31,
   "metadata": {},
   "outputs": [
    {
     "ename": "OSError",
     "evalue": "[Errno 63] File name too long: \"Somewhere in Germany, but I can't place it\\nMan, I hate this part of Texas\\nClose my eyes, fantasize\\nThree clicks, and I'm home\\nWhen I get back I'll lay around\\nAnd I'll get up and lay back down\\nRomanticize a quiet life\\nThere's no place like my room\\nBut you had to go\\nI know, I know, I know\\nLike a wave that crashed and melted on the shore\\nNot even the burnouts are out here anymore\\nAnd you had to go\\nI know, I know, I know\\nOut in the park, we watch the sunset\\nTalking on a rusty swing set\\nAfter awhile you went quiet, and I got mean\\nI'm always pushing you away from me\\nBut you come back with gravity\\nAnd when I call, you come home\\nA bird in your teeth\\nSo I gotta go\\nI know, I know, I know\\nWhen the sirens sound, you'll hide under the floor\\nBut I'm not gonna go down with my hometown in a tornado\\nI'm gonna chase it\\nI know, I know, I know\\nI gotta go now\\nI know, I know, I know\\nDriving out into the sun\\nLet the ultraviolet cover me up\\nWent looking for a creation myth\\nEnded up with a pair of cracked lips\\nWindows down, scream along\\nTo some America first rap, country song\\nA slaughterhouse, an outlet mall\\nSlot machines, fear of God\\nWindows down, heater on\\nBig bolts of lightning hanging low\\nOver the coast, everyone's convinced\\nIt's a government drone or an alien spaceship\\nEither way, we're not alone\\nI'll find a new place to be from\\nA haunted house with a picket fence\\nTo float around and ghost my friends\\nNo, I'm not afraid to disappear\\nThe billboard said, 'The end is near'\\nI turned around, there was nothing there\\nYeah, I guess the end is here\\nThe end is here\\nThe end is here\\nThe end is here\\nThe end is here\"",
     "output_type": "error",
     "traceback": [
      "\u001b[0;31m---------------------------------------------------------------------------\u001b[0m",
      "\u001b[0;31mOSError\u001b[0m                                   Traceback (most recent call last)",
      "\u001b[1;32m/Users/allie/Downloads/Writing and digital media/3844f23-writing-digital-media/book/02-Intro-to-Python/15-Python-Review.ipynb Cell 16\u001b[0m line \u001b[0;36m1\n\u001b[0;32m----> <a href='vscode-notebook-cell:/Users/allie/Downloads/Writing%20and%20digital%20media/3844f23-writing-digital-media/book/02-Intro-to-Python/15-Python-Review.ipynb#X21sZmlsZQ%3D%3D?line=0'>1</a>\u001b[0m keyword_extractor(pb_song, \u001b[39m\"\u001b[39;49m\u001b[39mhome\u001b[39;49m\u001b[39m\"\u001b[39;49m)\n",
      "\u001b[1;32m/Users/allie/Downloads/Writing and digital media/3844f23-writing-digital-media/book/02-Intro-to-Python/15-Python-Review.ipynb Cell 16\u001b[0m line \u001b[0;36m3\n\u001b[1;32m      <a href='vscode-notebook-cell:/Users/allie/Downloads/Writing%20and%20digital%20media/3844f23-writing-digital-media/book/02-Intro-to-Python/15-Python-Review.ipynb#X21sZmlsZQ%3D%3D?line=0'>1</a>\u001b[0m \u001b[39mdef\u001b[39;00m \u001b[39mkeyword_extractor\u001b[39m(song_file, keyword):\n\u001b[1;32m      <a href='vscode-notebook-cell:/Users/allie/Downloads/Writing%20and%20digital%20media/3844f23-writing-digital-media/book/02-Intro-to-Python/15-Python-Review.ipynb#X21sZmlsZQ%3D%3D?line=1'>2</a>\u001b[0m     matching_lines \u001b[39m=\u001b[39m []\n\u001b[0;32m----> <a href='vscode-notebook-cell:/Users/allie/Downloads/Writing%20and%20digital%20media/3844f23-writing-digital-media/book/02-Intro-to-Python/15-Python-Review.ipynb#X21sZmlsZQ%3D%3D?line=2'>3</a>\u001b[0m     \u001b[39mwith\u001b[39;00m \u001b[39mopen\u001b[39;49m(song_file, \u001b[39m'\u001b[39;49m\u001b[39mr\u001b[39;49m\u001b[39m'\u001b[39;49m) \u001b[39mas\u001b[39;00m lyrics_file:\n\u001b[1;32m      <a href='vscode-notebook-cell:/Users/allie/Downloads/Writing%20and%20digital%20media/3844f23-writing-digital-media/book/02-Intro-to-Python/15-Python-Review.ipynb#X21sZmlsZQ%3D%3D?line=3'>4</a>\u001b[0m         song_lyrics \u001b[39m=\u001b[39m lyrics_file\u001b[39m.\u001b[39mreadlines()\n\u001b[1;32m      <a href='vscode-notebook-cell:/Users/allie/Downloads/Writing%20and%20digital%20media/3844f23-writing-digital-media/book/02-Intro-to-Python/15-Python-Review.ipynb#X21sZmlsZQ%3D%3D?line=5'>6</a>\u001b[0m     \u001b[39mfor\u001b[39;00m line \u001b[39min\u001b[39;00m song_lyrics:\n",
      "File \u001b[0;32m~/Library/Python/3.9/lib/python/site-packages/IPython/core/interactiveshell.py:286\u001b[0m, in \u001b[0;36m_modified_open\u001b[0;34m(file, *args, **kwargs)\u001b[0m\n\u001b[1;32m    279\u001b[0m \u001b[39mif\u001b[39;00m file \u001b[39min\u001b[39;00m {\u001b[39m0\u001b[39m, \u001b[39m1\u001b[39m, \u001b[39m2\u001b[39m}:\n\u001b[1;32m    280\u001b[0m     \u001b[39mraise\u001b[39;00m \u001b[39mValueError\u001b[39;00m(\n\u001b[1;32m    281\u001b[0m         \u001b[39mf\u001b[39m\u001b[39m\"\u001b[39m\u001b[39mIPython won\u001b[39m\u001b[39m'\u001b[39m\u001b[39mt let you open fd=\u001b[39m\u001b[39m{\u001b[39;00mfile\u001b[39m}\u001b[39;00m\u001b[39m by default \u001b[39m\u001b[39m\"\u001b[39m\n\u001b[1;32m    282\u001b[0m         \u001b[39m\"\u001b[39m\u001b[39mas it is likely to crash IPython. If you know what you are doing, \u001b[39m\u001b[39m\"\u001b[39m\n\u001b[1;32m    283\u001b[0m         \u001b[39m\"\u001b[39m\u001b[39myou can use builtins\u001b[39m\u001b[39m'\u001b[39m\u001b[39m open.\u001b[39m\u001b[39m\"\u001b[39m\n\u001b[1;32m    284\u001b[0m     )\n\u001b[0;32m--> 286\u001b[0m \u001b[39mreturn\u001b[39;00m io_open(file, \u001b[39m*\u001b[39;49margs, \u001b[39m*\u001b[39;49m\u001b[39m*\u001b[39;49mkwargs)\n",
      "\u001b[0;31mOSError\u001b[0m: [Errno 63] File name too long: \"Somewhere in Germany, but I can't place it\\nMan, I hate this part of Texas\\nClose my eyes, fantasize\\nThree clicks, and I'm home\\nWhen I get back I'll lay around\\nAnd I'll get up and lay back down\\nRomanticize a quiet life\\nThere's no place like my room\\nBut you had to go\\nI know, I know, I know\\nLike a wave that crashed and melted on the shore\\nNot even the burnouts are out here anymore\\nAnd you had to go\\nI know, I know, I know\\nOut in the park, we watch the sunset\\nTalking on a rusty swing set\\nAfter awhile you went quiet, and I got mean\\nI'm always pushing you away from me\\nBut you come back with gravity\\nAnd when I call, you come home\\nA bird in your teeth\\nSo I gotta go\\nI know, I know, I know\\nWhen the sirens sound, you'll hide under the floor\\nBut I'm not gonna go down with my hometown in a tornado\\nI'm gonna chase it\\nI know, I know, I know\\nI gotta go now\\nI know, I know, I know\\nDriving out into the sun\\nLet the ultraviolet cover me up\\nWent looking for a creation myth\\nEnded up with a pair of cracked lips\\nWindows down, scream along\\nTo some America first rap, country song\\nA slaughterhouse, an outlet mall\\nSlot machines, fear of God\\nWindows down, heater on\\nBig bolts of lightning hanging low\\nOver the coast, everyone's convinced\\nIt's a government drone or an alien spaceship\\nEither way, we're not alone\\nI'll find a new place to be from\\nA haunted house with a picket fence\\nTo float around and ghost my friends\\nNo, I'm not afraid to disappear\\nThe billboard said, 'The end is near'\\nI turned around, there was nothing there\\nYeah, I guess the end is here\\nThe end is here\\nThe end is here\\nThe end is here\\nThe end is here\""
     ]
    }
   ],
   "source": [
    "keyword_extractor(pb_song, \"home\")"
   ]
  }
 ],
 "metadata": {
  "kernelspec": {
   "display_name": "Python 3",
   "language": "python",
   "name": "python3"
  },
  "language_info": {
   "codemirror_mode": {
    "name": "ipython",
    "version": 3
   },
   "file_extension": ".py",
   "mimetype": "text/x-python",
   "name": "python",
   "nbconvert_exporter": "python",
   "pygments_lexer": "ipython3",
   "version": "3.9.6"
  }
 },
 "nbformat": 4,
 "nbformat_minor": 4
}
