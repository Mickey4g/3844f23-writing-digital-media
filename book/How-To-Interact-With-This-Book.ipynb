{
 "cells": [
  {
   "cell_type": "markdown",
   "metadata": {},
   "source": [
    "# How to Interact With This Book"
   ]
  },
  {
   "cell_type": "markdown",
   "metadata": {},
   "source": [
    "This book was created with [Jupyter Book](https://jupyterbook.org/intro.html), an open-source project for designing online interactive books that contain code and other computational material."
   ]
  },
  {
   "cell_type": "markdown",
   "metadata": {},
   "source": [
    "## <i class=\"fa fa-rocket\" aria-hidden=\"true\"></i> 1. Open Jupyter Notebook in the Cloud "
   ]
  },
  {
   "cell_type": "markdown",
   "metadata": {},
   "source": [
    "You can open most pages from this book in the cloud and run the code live. Hover over the rocket icon <i class=\"fa fa-rocket\" aria-hidden=\"true\"></i>  at the top of the page and click \"Binder\" to open a version of the same page in the cloud."
   ]
  },
  {
   "cell_type": "markdown",
   "metadata": {},
   "source": [
    "[Binder](https://mybinder.org/) is a service that allows you to run Jupyter notebooks without any prior configuration or installation. It may take a few minutes for the Jupyter notebook to load, so be patient.\n",
    "\n",
    "However, we will be mainly using a workflow where you engage this notebook offline."
   ]
  },
  {
   "cell_type": "markdown",
   "metadata": {},
   "source": [
    "## <i class=\"fa fa-download\" aria-hidden=\"true\"></i> 2. Download Jupyter Notebook "
   ]
  },
  {
   "cell_type": "markdown",
   "metadata": {},
   "source": [
    "You will mainly use this textbook by installing some tools and a follow a worklow outline in the first phase: [01 - Installation of Your Workflow](01-Installation-Workflow). But, we'll work through that material together."
   ]
  }
 ],
 "metadata": {
  "kernelspec": {
   "display_name": "Python 3",
   "language": "python",
   "name": "python3"
  },
  "language_info": {
   "codemirror_mode": {
    "name": "ipython",
    "version": 3
   },
   "file_extension": ".py",
   "mimetype": "text/x-python",
   "name": "python",
   "nbconvert_exporter": "python",
   "pygments_lexer": "ipython3",
   "version": "3.8.8"
  }
 },
 "nbformat": 4,
 "nbformat_minor": 4
}
