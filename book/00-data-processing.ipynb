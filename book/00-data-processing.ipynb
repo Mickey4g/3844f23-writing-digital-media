{
 "cells": [
  {
   "cell_type": "markdown",
   "metadata": {},
   "source": [
    "# Processing Data for Course"
   ]
  },
  {
   "cell_type": "code",
   "execution_count": 1,
   "metadata": {},
   "outputs": [],
   "source": [
    "import pandas as pd\n",
    "import gzip\n",
    "import json"
   ]
  },
  {
   "cell_type": "code",
   "execution_count": 2,
   "metadata": {},
   "outputs": [],
   "source": [
    "def parse_gzip_json(path):\n",
    "  '''\n",
    "  helper func for get_json_to_df\n",
    "  '''\n",
    "  g = gzip.open(path, 'rb')\n",
    "  for l in g:\n",
    "    yield json.loads(l)\n",
    "\n",
    "def get_json_to_df(path):\n",
    "  i = 0\n",
    "  df = {}\n",
    "  for d in parse_gzip_json(path):\n",
    "    df[i] = d\n",
    "    i += 1\n",
    "  return pd.DataFrame.from_dict(df, orient='index')"
   ]
  },
  {
   "cell_type": "markdown",
   "metadata": {},
   "source": [
    "## Jeopardy Questions"
   ]
  },
  {
   "cell_type": "code",
   "execution_count": 2,
   "metadata": {},
   "outputs": [
    {
     "name": "stdout",
     "output_type": "stream",
     "text": [
      "<class 'pandas.core.frame.DataFrame'>\n",
      "RangeIndex: 216930 entries, 0 to 216929\n",
      "Data columns (total 7 columns):\n",
      " #   Column       Non-Null Count   Dtype \n",
      "---  ------       --------------   ----- \n",
      " 0   Show Number  216930 non-null  int64 \n",
      " 1   AirDate      216930 non-null  object\n",
      " 2   Round        216930 non-null  object\n",
      " 3   Category     216930 non-null  object\n",
      " 4   Value        213296 non-null  object\n",
      " 5   Question     216930 non-null  object\n",
      " 6   Answer       216927 non-null  object\n",
      "dtypes: int64(1), object(6)\n",
      "memory usage: 11.6+ MB\n"
     ]
    }
   ],
   "source": [
    "df_jeop_ques = pd.read_csv('./data/04-textual-analysis/jeopardy/Jeopardy-Questions.csv')\n",
    "df_jeop_ques.info()"
   ]
  },
  {
   "cell_type": "code",
   "execution_count": 3,
   "metadata": {},
   "outputs": [],
   "source": [
    "def convert_to_int(v):\n",
    "    if type(v) != float:\n",
    "        # remove $ at start and commas\n",
    "        new_value = float(v[1:].replace(',', ''))\n",
    "        return new_value\n",
    "    # no wager / NaN\n",
    "    elif type(v) == float:\n",
    "        new_value = 0\n",
    "        return new_value"
   ]
  },
  {
   "cell_type": "code",
   "execution_count": 4,
   "metadata": {},
   "outputs": [
    {
     "name": "stdout",
     "output_type": "stream",
     "text": [
      "<class 'pandas.core.frame.DataFrame'>\n",
      "RangeIndex: 216930 entries, 0 to 216929\n",
      "Data columns (total 8 columns):\n",
      " #   Column       Non-Null Count   Dtype  \n",
      "---  ------       --------------   -----  \n",
      " 0   Show Number  216930 non-null  int64  \n",
      " 1   AirDate      216930 non-null  object \n",
      " 2   Round        216930 non-null  object \n",
      " 3   Category     216930 non-null  object \n",
      " 4   Value        213296 non-null  object \n",
      " 5   Question     216930 non-null  object \n",
      " 6   Answer       216927 non-null  object \n",
      " 7   IntValue     216930 non-null  float64\n",
      "dtypes: float64(1), int64(1), object(6)\n",
      "memory usage: 13.2+ MB\n"
     ]
    }
   ],
   "source": [
    "df_jeop_ques['IntValue'] = df_jeop_ques['Value'].apply(convert_to_int)\n",
    "df_jeop_ques.info()"
   ]
  },
  {
   "cell_type": "code",
   "execution_count": 5,
   "metadata": {},
   "outputs": [
    {
     "data": {
      "text/html": [
       "<div>\n",
       "<style scoped>\n",
       "    .dataframe tbody tr th:only-of-type {\n",
       "        vertical-align: middle;\n",
       "    }\n",
       "\n",
       "    .dataframe tbody tr th {\n",
       "        vertical-align: top;\n",
       "    }\n",
       "\n",
       "    .dataframe thead th {\n",
       "        text-align: right;\n",
       "    }\n",
       "</style>\n",
       "<table border=\"1\" class=\"dataframe\">\n",
       "  <thead>\n",
       "    <tr style=\"text-align: right;\">\n",
       "      <th></th>\n",
       "      <th>Show Number</th>\n",
       "      <th>AirDate</th>\n",
       "      <th>Round</th>\n",
       "      <th>Category</th>\n",
       "      <th>Value</th>\n",
       "      <th>Question</th>\n",
       "      <th>Answer</th>\n",
       "      <th>IntValue</th>\n",
       "    </tr>\n",
       "  </thead>\n",
       "  <tbody>\n",
       "    <tr>\n",
       "      <th>216929</th>\n",
       "      <td>4999</td>\n",
       "      <td>2006-05-11</td>\n",
       "      <td>Final Jeopardy!</td>\n",
       "      <td>HISTORIC NAMES</td>\n",
       "      <td>NaN</td>\n",
       "      <td>A silent movie title includes the last name of...</td>\n",
       "      <td>Grigori Alexandrovich Potemkin</td>\n",
       "      <td>0.0</td>\n",
       "    </tr>\n",
       "    <tr>\n",
       "      <th>146550</th>\n",
       "      <td>5095</td>\n",
       "      <td>2006-11-03</td>\n",
       "      <td>Final Jeopardy!</td>\n",
       "      <td>THE OSCARS</td>\n",
       "      <td>NaN</td>\n",
       "      <td>He's the only person over 70 years of age to w...</td>\n",
       "      <td>Clint Eastwood</td>\n",
       "      <td>0.0</td>\n",
       "    </tr>\n",
       "    <tr>\n",
       "      <th>146611</th>\n",
       "      <td>5364</td>\n",
       "      <td>2007-12-27</td>\n",
       "      <td>Final Jeopardy!</td>\n",
       "      <td>AUTHORS' OBITUARIES</td>\n",
       "      <td>NaN</td>\n",
       "      <td>In 1991 the N.Y. Times said English was \"too s...</td>\n",
       "      <td>Dr. Seuss</td>\n",
       "      <td>0.0</td>\n",
       "    </tr>\n",
       "    <tr>\n",
       "      <th>146671</th>\n",
       "      <td>4336</td>\n",
       "      <td>2003-06-09</td>\n",
       "      <td>Final Jeopardy!</td>\n",
       "      <td>TIME'S MAN OF THE YEAR</td>\n",
       "      <td>NaN</td>\n",
       "      <td>The only man named Time's Man of the Year 2 st...</td>\n",
       "      <td>Richard M. Nixon</td>\n",
       "      <td>0.0</td>\n",
       "    </tr>\n",
       "    <tr>\n",
       "      <th>146730</th>\n",
       "      <td>370</td>\n",
       "      <td>1986-02-07</td>\n",
       "      <td>Final Jeopardy!</td>\n",
       "      <td>ROYALTY</td>\n",
       "      <td>NaN</td>\n",
       "      <td>Just as wife of U.S. President is called \"Firs...</td>\n",
       "      <td>Prince Consort</td>\n",
       "      <td>0.0</td>\n",
       "    </tr>\n",
       "  </tbody>\n",
       "</table>\n",
       "</div>"
      ],
      "text/plain": [
       "        Show Number     AirDate            Round                Category  \\\n",
       "216929         4999  2006-05-11  Final Jeopardy!          HISTORIC NAMES   \n",
       "146550         5095  2006-11-03  Final Jeopardy!              THE OSCARS   \n",
       "146611         5364  2007-12-27  Final Jeopardy!     AUTHORS' OBITUARIES   \n",
       "146671         4336  2003-06-09  Final Jeopardy!  TIME'S MAN OF THE YEAR   \n",
       "146730          370  1986-02-07  Final Jeopardy!                 ROYALTY   \n",
       "\n",
       "       Value                                           Question  \\\n",
       "216929   NaN  A silent movie title includes the last name of...   \n",
       "146550   NaN  He's the only person over 70 years of age to w...   \n",
       "146611   NaN  In 1991 the N.Y. Times said English was \"too s...   \n",
       "146671   NaN  The only man named Time's Man of the Year 2 st...   \n",
       "146730   NaN  Just as wife of U.S. President is called \"Firs...   \n",
       "\n",
       "                                Answer  IntValue  \n",
       "216929  Grigori Alexandrovich Potemkin       0.0  \n",
       "146550                  Clint Eastwood       0.0  \n",
       "146611                       Dr. Seuss       0.0  \n",
       "146671                Richard M. Nixon       0.0  \n",
       "146730                  Prince Consort       0.0  "
      ]
     },
     "execution_count": 5,
     "metadata": {},
     "output_type": "execute_result"
    }
   ],
   "source": [
    "df_jeop_ques_sorted = df_jeop_ques.sort_values(by=['IntValue'], ascending=True)\n",
    "df_jeop_ques_sorted.head()"
   ]
  },
  {
   "cell_type": "code",
   "execution_count": 6,
   "metadata": {},
   "outputs": [
    {
     "name": "stdout",
     "output_type": "stream",
     "text": [
      "min 0.0 \n",
      "mode 0    400.0\n",
      "Name: IntValue, dtype: float64 \n",
      "mean 739.9884755451067 \n",
      "median 600.0 \n",
      "max 18000.0\n"
     ]
    }
   ],
   "source": [
    "print(\n",
    "    'min',df_jeop_ques_sorted['IntValue'].min(),\n",
    "    '\\nmode',df_jeop_ques_sorted['IntValue'].mode(),\n",
    "    '\\nmean',df_jeop_ques_sorted['IntValue'].mean(),\n",
    "    '\\nmedian',df_jeop_ques_sorted['IntValue'].median(),\n",
    "    '\\nmax',df_jeop_ques_sorted['IntValue'].max()\n",
    ")"
   ]
  },
  {
   "cell_type": "code",
   "execution_count": 15,
   "metadata": {},
   "outputs": [
    {
     "name": "stdout",
     "output_type": "stream",
     "text": [
      "q_t1 10000 \n",
      "q_t2 10000 \n",
      "q_t3 10000\n"
     ]
    }
   ],
   "source": [
    "q_less_than_400 = df_jeop_ques_sorted.loc[(df_jeop_ques_sorted['IntValue'] <= 400)].sample(10000)\n",
    "q_greater_than_400_less_than_1000 = df_jeop_ques_sorted.loc[(df_jeop_ques_sorted['IntValue'] > 400) & (df_jeop_ques_sorted['IntValue'] <= 1000)].sample(10000)\n",
    "q_greater_than_1000 = df_jeop_ques_sorted.loc[(df_jeop_ques_sorted['IntValue'] > 1000)].sample(10000)\n",
    "\n",
    "print(\n",
    "    'q_t1', len(q_less_than_400),\n",
    "    '\\nq_t2', len(q_greater_than_400_less_than_1000),\n",
    "    '\\nq_t3', len(q_greater_than_1000)\n",
    ")"
   ]
  },
  {
   "cell_type": "code",
   "execution_count": 16,
   "metadata": {},
   "outputs": [],
   "source": [
    "q_less_than_400['Question'].to_csv('./data/04-textual-analysis/jeopardy/split/q_less_than_400.txt', index=False, header=False)\n",
    "q_greater_than_400_less_than_1000['Question'].to_csv('./data/04-textual-analysis/jeopardy/split/q_greater_than_400_less_than_1000.txt', index=False, header=False)\n",
    "q_greater_than_1000['Question'].to_csv('./data/04-textual-analysis/jeopardy/split/q_greater_than_1000.txt', index=False, header=False)"
   ]
  },
  {
   "cell_type": "markdown",
   "metadata": {},
   "source": [
    "## Amazon Reviews\n",
    "\n",
    "Process Amazon reviews for Text Analysis. [OG Source](https://nijianmo.github.io/amazon/index.html#complete-data)\n",
    "> Justifying recommendations using distantly-labeled reviews and fined-grained aspects. Jianmo Ni, Jiacheng Li, Julian McAuley. Empirical Methods in Natural Language Processing (EMNLP), 2019."
   ]
  },
  {
   "cell_type": "code",
   "execution_count": 7,
   "metadata": {},
   "outputs": [
    {
     "data": {
      "text/plain": [
       "Index(['overall', 'verified', 'reviewTime', 'reviewerID', 'asin',\n",
       "       'reviewerName', 'reviewText', 'summary', 'unixReviewTime', 'vote',\n",
       "       'style', 'image'],\n",
       "      dtype='object')"
      ]
     },
     "execution_count": 7,
     "metadata": {},
     "output_type": "execute_result"
    }
   ],
   "source": [
    "# Video Games. Have since deleted data due to its identifiers\n",
    "df_amazon_video_games = get_json_to_df('./data/04-textual-analysis/amazon/Video_Games.json.gz')\n",
    "df_amazon_video_games.columns"
   ]
  },
  {
   "cell_type": "code",
   "execution_count": 8,
   "metadata": {},
   "outputs": [
    {
     "name": "stdout",
     "output_type": "stream",
     "text": [
      "<class 'pandas.core.frame.DataFrame'>\n",
      "Index: 2565349 entries, 0 to 2565348\n",
      "Data columns (total 12 columns):\n",
      " #   Column          Dtype  \n",
      "---  ------          -----  \n",
      " 0   overall         float64\n",
      " 1   verified        bool   \n",
      " 2   reviewTime      object \n",
      " 3   reviewerID      object \n",
      " 4   asin            object \n",
      " 5   reviewerName    object \n",
      " 6   reviewText      object \n",
      " 7   summary         object \n",
      " 8   unixReviewTime  int64  \n",
      " 9   vote            object \n",
      " 10  style           object \n",
      " 11  image           object \n",
      "dtypes: bool(1), float64(1), int64(1), object(9)\n",
      "memory usage: 237.3+ MB\n"
     ]
    }
   ],
   "source": [
    "df_amazon_video_games.info()"
   ]
  },
  {
   "cell_type": "code",
   "execution_count": 29,
   "metadata": {},
   "outputs": [
    {
     "name": "stdout",
     "output_type": "stream",
     "text": [
      "<class 'pandas.core.frame.DataFrame'>\n",
      "Index: 2563634 entries, 0 to 2565348\n",
      "Data columns (total 12 columns):\n",
      " #   Column          Dtype  \n",
      "---  ------          -----  \n",
      " 0   overall         float64\n",
      " 1   verified        bool   \n",
      " 2   reviewTime      object \n",
      " 3   reviewerID      object \n",
      " 4   asin            object \n",
      " 5   reviewerName    object \n",
      " 6   reviewText      object \n",
      " 7   summary         object \n",
      " 8   unixReviewTime  int64  \n",
      " 9   vote            object \n",
      " 10  style           object \n",
      " 11  image           object \n",
      "dtypes: bool(1), float64(1), int64(1), object(9)\n",
      "memory usage: 237.2+ MB\n"
     ]
    }
   ],
   "source": [
    "df_amazon_video_games_scores = df_amazon_video_games.dropna(subset=['overall','reviewText'])\n",
    "# 2565348\n",
    "df_amazon_video_games_scores.info()"
   ]
  },
  {
   "cell_type": "code",
   "execution_count": 17,
   "metadata": {},
   "outputs": [],
   "source": [
    "vg_1 = df_amazon_video_games_scores.loc[(df_amazon_video_games_scores['overall'] == 1.0)]\n",
    "vg_2 = df_amazon_video_games_scores.loc[(df_amazon_video_games_scores['overall'] == 2.0)]\n",
    "vg_3 = df_amazon_video_games_scores.loc[(df_amazon_video_games_scores['overall'] == 3.0)]\n",
    "vg_4 = df_amazon_video_games_scores.loc[(df_amazon_video_games_scores['overall'] == 4.0)]\n",
    "vg_5 = df_amazon_video_games_scores.loc[(df_amazon_video_games_scores['overall'] == 5.0)]"
   ]
  },
  {
   "cell_type": "code",
   "execution_count": 30,
   "metadata": {},
   "outputs": [
    {
     "name": "stdout",
     "output_type": "stream",
     "text": [
      "1 311891 2 141333 3 212346 4 412413 5 1487366\n"
     ]
    }
   ],
   "source": [
    "print(\n",
    "    '1',len(vg_1),\n",
    "    '2',len(vg_2),\n",
    "    '3',len(vg_3),\n",
    "    '4',len(vg_4),\n",
    "    '5',len(vg_5)\n",
    ")"
   ]
  },
  {
   "cell_type": "code",
   "execution_count": 31,
   "metadata": {},
   "outputs": [],
   "source": [
    "vg_1_txt = vg_1.reviewText\n",
    "vg_2_txt = vg_2.reviewText\n",
    "vg_3_txt = vg_3.reviewText\n",
    "vg_4_txt = vg_4.reviewText\n",
    "vg_5_txt = vg_5.reviewText"
   ]
  },
  {
   "cell_type": "code",
   "execution_count": 37,
   "metadata": {},
   "outputs": [
    {
     "data": {
      "text/plain": [
       "1     The game itself worked great but the story lin...\n",
       "6     Would like it more if they had at least update...\n",
       "21    Just like I remember from childhood. But. You ...\n",
       "31    We were hoping for something more like the ori...\n",
       "33                                                   ok\n",
       "Name: reviewText, dtype: object"
      ]
     },
     "execution_count": 37,
     "metadata": {},
     "output_type": "execute_result"
    }
   ],
   "source": [
    "vg_3_txt.head()"
   ]
  },
  {
   "cell_type": "code",
   "execution_count": 44,
   "metadata": {},
   "outputs": [],
   "source": [
    "vg_1_txt_1 = vg_1_txt.loc[(vg_1_txt != '') & (vg_1_txt.notna()) & (vg_1_txt.notnull())]\n",
    "vg_2_txt_1 = vg_2_txt.loc[(vg_2_txt != '') & (vg_2_txt.notna()) & (vg_2_txt.notnull())]\n",
    "vg_3_txt_1 = vg_3_txt.loc[(vg_3_txt != '') & (vg_3_txt.notna()) & (vg_3_txt.notnull())]\n",
    "vg_4_txt_1 = vg_4_txt.loc[(vg_4_txt != '') & (vg_4_txt.notna()) & (vg_4_txt.notnull())]\n",
    "vg_5_txt_1 = vg_5_txt.loc[(vg_5_txt != '') & (vg_5_txt.notna()) & (vg_5_txt.notnull())]"
   ]
  },
  {
   "cell_type": "code",
   "execution_count": 45,
   "metadata": {},
   "outputs": [
    {
     "name": "stdout",
     "output_type": "stream",
     "text": [
      "1 311808 2 141306 3 212302 4 412278 5 1485940\n"
     ]
    }
   ],
   "source": [
    "print(\n",
    "    '1',len(vg_1_txt_1),\n",
    "    '2',len(vg_2_txt_1),\n",
    "    '3',len(vg_3_txt_1),\n",
    "    '4',len(vg_4_txt_1),\n",
    "    '5',len(vg_5_txt_1)\n",
    ")"
   ]
  },
  {
   "cell_type": "code",
   "execution_count": 46,
   "metadata": {},
   "outputs": [],
   "source": [
    "vg_1_txt_1.to_csv('./data/04-textual-analysis/amazon-reviews/video_game_reviews_1_ratings.txt', index=False, header=False)\n",
    "vg_2_txt_1.to_csv('./data/04-textual-analysis/amazon-reviews/video_game_reviews_2_ratings.txt', index=False, header=False)\n",
    "vg_3_txt_1.to_csv('./data/04-textual-analysis/amazon-reviews/video_game_reviews_3_ratings.txt', index=False, header=False)\n",
    "vg_4_txt_1.to_csv('./data/04-textual-analysis/amazon-reviews/video_game_reviews_4_ratings.txt', index=False, header=False)\n",
    "vg_5_txt_1.to_csv('./data/04-textual-analysis/amazon-reviews/video_game_reviews_5_ratings.txt', index=False, header=False)\n"
   ]
  }
 ],
 "metadata": {
  "kernelspec": {
   "display_name": "Python 3",
   "language": "python",
   "name": "python3"
  },
  "language_info": {
   "codemirror_mode": {
    "name": "ipython",
    "version": 3
   },
   "file_extension": ".py",
   "mimetype": "text/x-python",
   "name": "python",
   "nbconvert_exporter": "python",
   "pygments_lexer": "ipython3",
   "version": "3.9.8"
  },
  "orig_nbformat": 4
 },
 "nbformat": 4,
 "nbformat_minor": 2
}
