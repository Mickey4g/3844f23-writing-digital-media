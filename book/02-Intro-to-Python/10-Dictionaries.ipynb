{
 "cells": [
  {
   "cell_type": "markdown",
   "metadata": {},
   "source": [
    "# Dictionaries"
   ]
  },
  {
   "cell_type": "markdown",
   "metadata": {},
   "source": [
    "*Note: You can explore the [associated workbook](https://mybinder.org/v2/gh/melaniewalsh/Intro-Cultural-Analytics/master?urlpath=lab/tree/book/02-Python/Workbooks/11.5-Dictionaries-WORKBOOK.ipynb) for this chapter in the cloud.*"
   ]
  },
  {
   "cell_type": "code",
   "execution_count": null,
   "metadata": {},
   "outputs": [],
   "source": []
  },
  {
   "cell_type": "markdown",
   "metadata": {},
   "source": [
    "In this lesson, we're going to learn about Python dictionaries by drawing on Anelise Shrout's [Bellevue Almshouse Dataset](https://www.nyuirish.net/almshouse/the-almshouse-records/), excerpted below."
   ]
  },
  {
   "cell_type": "markdown",
   "metadata": {},
   "source": [
    "**Preview The Bellevue Almshouse Dataset**"
   ]
  },
  {
   "cell_type": "code",
   "execution_count": 2,
   "metadata": {
    "scrolled": true,
    "tags": [
     "remove-input",
     "output_scroll"
    ]
   },
   "outputs": [
    {
     "ename": "ModuleNotFoundError",
     "evalue": "No module named 'pandas'",
     "output_type": "error",
     "traceback": [
      "\u001b[0;31m---------------------------------------------------------------------------\u001b[0m",
      "\u001b[0;31mModuleNotFoundError\u001b[0m                       Traceback (most recent call last)",
      "\u001b[1;32m/Users/allie/Downloads/Writing and digital media/3844f23-writing-digital-media/book/02-Intro-to-Python/10-Dictionaries.ipynb Cell 5\u001b[0m line \u001b[0;36m1\n\u001b[0;32m----> <a href='vscode-notebook-cell:/Users/allie/Downloads/Writing%20and%20digital%20media/3844f23-writing-digital-media/book/02-Intro-to-Python/10-Dictionaries.ipynb#W4sZmlsZQ%3D%3D?line=0'>1</a>\u001b[0m \u001b[39mimport\u001b[39;00m \u001b[39mpandas\u001b[39;00m\n\u001b[1;32m      <a href='vscode-notebook-cell:/Users/allie/Downloads/Writing%20and%20digital%20media/3844f23-writing-digital-media/book/02-Intro-to-Python/10-Dictionaries.ipynb#W4sZmlsZQ%3D%3D?line=1'>2</a>\u001b[0m pandas\u001b[39m.\u001b[39mread_csv(\u001b[39m\"\u001b[39m\u001b[39m../data/bellevue_almshouse_modified.csv\u001b[39m\u001b[39m\"\u001b[39m)\u001b[39m.\u001b[39mhead(\u001b[39m20\u001b[39m)\n",
      "\u001b[0;31mModuleNotFoundError\u001b[0m: No module named 'pandas'"
     ]
    }
   ],
   "source": [
    "import pandas\n",
    "pandas.read_csv(\"../data/bellevue_almshouse_modified.csv\").head(20)"
   ]
  },
  {
   "cell_type": "markdown",
   "metadata": {},
   "source": [
    "```{margin} The Bellevue Almshouse Dataset \n",
    "The Bellevue Almshouse Dataset includes information about Irish-born immigrants who were admitted to the almshouse in the 1840s. The Bellevue Almshouse was part of New York City's public health system, a place where poor, sick, homeless, and otherwise marginalized people were sent — sometimes voluntarily and sometimes forcibly. This dataset was transcribed from the almshouse's own admissions records by Anelise Shrout.\n",
    "```"
   ]
  },
  {
   "cell_type": "markdown",
   "metadata": {},
   "source": [
    "We're using the [Bellevue Almshouse Dataset](https://www.nyuirish.net/almshouse/the-almshouse-records/) to practice dictionaries because we want to think deeply about the consequences of reducing human life to data even at this early stage in our Python journey. This immigration data, as Shrout argues in her essay [\"(Re)Humanizing Data: Digitally Navigating the Bellevue Almshouse,\"](https://crdh.rrchnm.org/essays/v01-10-(re)-humanizing-data/) was \"produced with the express purpose of reducing people to bodies; bodies to easily quantifiable aspects; and assigning value to those aspects which proved that the marginalized people to who they belonged were worth less than their elite counterparts.\""
   ]
  },
  {
   "cell_type": "markdown",
   "metadata": {},
   "source": [
    "___"
   ]
  },
  {
   "cell_type": "markdown",
   "metadata": {},
   "source": [
    "## Dictionary"
   ]
  },
  {
   "cell_type": "markdown",
   "metadata": {},
   "source": [
    "When we used lists with the Bellevue Almshouse data, it was easier than individually assigning individual variables. We could put multiple names into a single list and multiple ages in a single list.\n",
    "\n",
    "By using a Python data collection type called a *dictionary*, we can go even further and group each person's name, age, and profession into a single collection."
   ]
  },
  {
   "cell_type": "markdown",
   "metadata": {},
   "source": [
    "**Indivudal Variables**"
   ]
  },
  {
   "cell_type": "code",
   "execution_count": 11,
   "metadata": {},
   "outputs": [],
   "source": [
    "person1_name = 'Mary Gallagher'\n",
    "person2_name = 'John Sanin (?)'\n",
    "person1_age = 18\n",
    "person2_age = 19"
   ]
  },
  {
   "cell_type": "markdown",
   "metadata": {},
   "source": [
    "**Lists**"
   ]
  },
  {
   "cell_type": "code",
   "execution_count": 9,
   "metadata": {},
   "outputs": [],
   "source": [
    "names = ['Mary Gallagher', 'John Sanin(?)', 'Anthony Clark', 'Margaret Farrell']\n",
    "ages = [28, 19, 60, 30]\n",
    "professions = ['married', 'laborer', 'laborer', 'widow']"
   ]
  },
  {
   "cell_type": "markdown",
   "metadata": {},
   "source": [
    "**Dictionary**"
   ]
  },
  {
   "cell_type": "code",
   "execution_count": 31,
   "metadata": {},
   "outputs": [],
   "source": [
    "person1 = {\"name\": \"Mary Gallagher\",\n",
    "             \"age\": 28,\n",
    "             \"profession\": \"married\"}"
   ]
  },
  {
   "cell_type": "code",
   "execution_count": 62,
   "metadata": {},
   "outputs": [
    {
     "data": {
      "text/plain": [
       "dict"
      ]
     },
     "execution_count": 62,
     "metadata": {},
     "output_type": "execute_result"
    }
   ],
   "source": [
    "type(person1)"
   ]
  },
  {
   "cell_type": "code",
   "execution_count": 1,
   "metadata": {},
   "outputs": [],
   "source": [
    "person2 = {\"name\": \"John Sanin(?)\",\n",
    "             \"age\": 19,\n",
    "             \"profession\": \"laborer\"}"
   ]
  },
  {
   "cell_type": "markdown",
   "metadata": {},
   "source": [
    "## Key-Value"
   ]
  },
  {
   "cell_type": "markdown",
   "metadata": {},
   "source": [
    "A dictionary is made up of \"key\"-\"value\" pairs, which are separated by a colon `:` and separated from other key-value pairs by a comma `,`. A dictionary is always enclosed by curly brackets `{}`. "
   ]
  },
  {
   "cell_type": "code",
   "execution_count": 31,
   "metadata": {},
   "outputs": [],
   "source": [
    "person1 = {\"name\": \"Mary Gallagher\",\n",
    "             \"age\": 28,\n",
    "             \"profession\": \"married\"}"
   ]
  },
  {
   "cell_type": "markdown",
   "metadata": {},
   "source": [
    "You can check all the keys in a dictionary by using the `.keys()` method or all the values in a dictionary by using the `.values()` method."
   ]
  },
  {
   "cell_type": "code",
   "execution_count": 28,
   "metadata": {},
   "outputs": [
    {
     "data": {
      "text/plain": [
       "dict_keys(['name', 'age', 'profession'])"
      ]
     },
     "execution_count": 28,
     "metadata": {},
     "output_type": "execute_result"
    }
   ],
   "source": [
    "person1.keys()"
   ]
  },
  {
   "cell_type": "code",
   "execution_count": 29,
   "metadata": {},
   "outputs": [
    {
     "data": {
      "text/plain": [
       "dict_values(['Mary Gallagher', 28, 'married'])"
      ]
     },
     "execution_count": 29,
     "metadata": {},
     "output_type": "execute_result"
    }
   ],
   "source": [
    "person1.values()"
   ]
  },
  {
   "cell_type": "markdown",
   "metadata": {},
   "source": [
    "## Access Items"
   ]
  },
  {
   "cell_type": "markdown",
   "metadata": {},
   "source": [
    "You can access a value in a dictionary by using square brackets `[]` and its key name (kind of like how we indexed a string or a list)."
   ]
  },
  {
   "cell_type": "code",
   "execution_count": 8,
   "metadata": {},
   "outputs": [
    {
     "data": {
      "text/plain": [
       "'Mary Gallagher'"
      ]
     },
     "execution_count": 8,
     "metadata": {},
     "output_type": "execute_result"
    }
   ],
   "source": [
    "person1[\"name\"]"
   ]
  },
  {
   "cell_type": "code",
   "execution_count": 5,
   "metadata": {},
   "outputs": [
    {
     "data": {
      "text/plain": [
       "28"
      ]
     },
     "execution_count": 5,
     "metadata": {},
     "output_type": "execute_result"
    }
   ],
   "source": [
    "person1[\"age\"]"
   ]
  },
  {
   "cell_type": "code",
   "execution_count": 9,
   "metadata": {},
   "outputs": [
    {
     "data": {
      "text/plain": [
       "'married'"
      ]
     },
     "execution_count": 9,
     "metadata": {},
     "output_type": "execute_result"
    }
   ],
   "source": [
    "person1[\"profession\"]"
   ]
  },
  {
   "cell_type": "markdown",
   "metadata": {},
   "source": [
    "## Change Item"
   ]
  },
  {
   "cell_type": "markdown",
   "metadata": {},
   "source": [
    "You can change a value in a dictionary by re-assigning a new value to a dictionary key."
   ]
  },
  {
   "cell_type": "code",
   "execution_count": 34,
   "metadata": {},
   "outputs": [],
   "source": [
    "person1[\"age\"] = 100"
   ]
  },
  {
   "cell_type": "code",
   "execution_count": 35,
   "metadata": {},
   "outputs": [
    {
     "data": {
      "text/plain": [
       "{'name': 'Mary Gallagher', 'age': 100, 'profession': 'married'}"
      ]
     },
     "execution_count": 35,
     "metadata": {},
     "output_type": "execute_result"
    }
   ],
   "source": [
    "person1"
   ]
  },
  {
   "cell_type": "code",
   "execution_count": 37,
   "metadata": {},
   "outputs": [],
   "source": [
    "person1['profession'] = 'spinster'"
   ]
  },
  {
   "cell_type": "code",
   "execution_count": 38,
   "metadata": {},
   "outputs": [
    {
     "data": {
      "text/plain": [
       "{'name': 'Mary Gallagher', 'age': 100, 'profession': 'spinster'}"
      ]
     },
     "execution_count": 38,
     "metadata": {},
     "output_type": "execute_result"
    }
   ],
   "source": [
    "person1"
   ]
  },
  {
   "cell_type": "markdown",
   "metadata": {},
   "source": [
    "## Nested Dictionary"
   ]
  },
  {
   "cell_type": "markdown",
   "metadata": {},
   "source": [
    "You can also nest a dictionary inside another dictionary."
   ]
  },
  {
   "cell_type": "code",
   "execution_count": 18,
   "metadata": {},
   "outputs": [],
   "source": [
    "bellevue_people = {\n",
    "                \"person1\":\n",
    "                  {\"name\": \"Mary Gallagher\",\n",
    "                   \"age\": 28,\n",
    "                   \"profession\": \"married\"},\n",
    "                \"person2\":\n",
    "                  {\"name\": \"John Sanin(?)\",\n",
    "                   \"age\": 19,\n",
    "                   \"profession\": \"laborer\"}\n",
    "                }"
   ]
  },
  {
   "cell_type": "code",
   "execution_count": 51,
   "metadata": {},
   "outputs": [
    {
     "data": {
      "text/plain": [
       "{'name': 'Mary Gallagher', 'age': 28, 'profession': 'married'}"
      ]
     },
     "execution_count": 51,
     "metadata": {},
     "output_type": "execute_result"
    }
   ],
   "source": [
    "bellevue_people['person1']"
   ]
  },
  {
   "cell_type": "code",
   "execution_count": 53,
   "metadata": {
    "tags": [
     "hide-output"
    ]
   },
   "outputs": [
    {
     "data": {
      "text/plain": [
       "'Mary Gallagher'"
      ]
     },
     "execution_count": 53,
     "metadata": {},
     "output_type": "execute_result"
    }
   ],
   "source": [
    "bellevue_people['person1']['name']"
   ]
  },
  {
   "cell_type": "code",
   "execution_count": 52,
   "metadata": {},
   "outputs": [
    {
     "data": {
      "text/plain": [
       "{'name': 'John Sanin(?)', 'age': 19, 'profession': 'laborer'}"
      ]
     },
     "execution_count": 52,
     "metadata": {},
     "output_type": "execute_result"
    }
   ],
   "source": [
    "bellevue_people['person2']"
   ]
  },
  {
   "cell_type": "code",
   "execution_count": 54,
   "metadata": {},
   "outputs": [
    {
     "data": {
      "text/plain": [
       "19"
      ]
     },
     "execution_count": 54,
     "metadata": {},
     "output_type": "execute_result"
    }
   ],
   "source": [
    "bellevue_people['person2']['age']"
   ]
  },
  {
   "cell_type": "markdown",
   "metadata": {},
   "source": [
    "## Iterate Through Dictionary"
   ]
  },
  {
   "cell_type": "code",
   "execution_count": 48,
   "metadata": {},
   "outputs": [
    {
     "name": "stdout",
     "output_type": "stream",
     "text": [
      "person_1\n",
      "person_2\n"
     ]
    }
   ],
   "source": [
    "for person in bellevue_people.keys():\n",
    "    print(person)"
   ]
  },
  {
   "cell_type": "code",
   "execution_count": 49,
   "metadata": {},
   "outputs": [
    {
     "name": "stdout",
     "output_type": "stream",
     "text": [
      "{'name': 'Mary Gallagher', 'age': 28, 'profession': 'married'}\n",
      "{'name': 'John Sanin(?)', 'age': 19, 'profession': 'laborer'}\n"
     ]
    }
   ],
   "source": [
    "for person in bellevue_people.values():\n",
    "    print(person)"
   ]
  },
  {
   "cell_type": "code",
   "execution_count": 60,
   "metadata": {},
   "outputs": [
    {
     "name": "stdout",
     "output_type": "stream",
     "text": [
      "Mary Gallagher is more than 20 years old. She is 28.\n"
     ]
    }
   ],
   "source": [
    "for person in bellevue_people.values():\n",
    "    if person['age'] > 20:\n",
    "        name = person['name']\n",
    "        age = person['age']\n",
    "        print(f'{name} is more than 20 years old. She is {age}.')"
   ]
  },
  {
   "cell_type": "code",
   "execution_count": 47,
   "metadata": {},
   "outputs": [
    {
     "name": "stdout",
     "output_type": "stream",
     "text": [
      "('person_1', {'name': 'Mary Gallagher', 'age': 28, 'profession': 'married'})\n",
      "('person_2', {'name': 'John Sanin(?)', 'age': 19, 'profession': 'laborer'})\n"
     ]
    }
   ],
   "source": [
    "for person in bellevue_people.items():\n",
    "    print(person)"
   ]
  },
  {
   "cell_type": "markdown",
   "metadata": {},
   "source": [
    "## Exercise 1"
   ]
  },
  {
   "cell_type": "code",
   "execution_count": 3,
   "metadata": {},
   "outputs": [],
   "source": [
    "movie = {'title': 'Selma',\n",
    "         'site': 'http://www.imdb.com/title/tt1020072/',\n",
    "         'country': 'US/UK',\n",
    "         'year_release': 2014,\n",
    "         'box_office': '$52.1M',\n",
    "         'director': 'Ava DuVernay',\n",
    "         'number_of_subjects': 1,\n",
    "         'subject': 'Martin Luther King, Jr',\n",
    "         'type_of_subject': 'Activist',\n",
    "         'race_known': 'Known',\n",
    "         'subject_race': 'African American',\n",
    "         'person_of_color': 1,\n",
    "         'subject_sex': 'Male', \n",
    "        'lead_actor_actress': 'David Oyelowo'}"
   ]
  },
  {
   "cell_type": "markdown",
   "metadata": {},
   "source": []
  },
  {
   "cell_type": "code",
   "execution_count": 4,
   "metadata": {},
   "outputs": [
    {
     "name": "stdout",
     "output_type": "stream",
     "text": [
      "title\n",
      "site\n",
      "country\n",
      "year_release\n",
      "box_office\n",
      "director\n",
      "number_of_subjects\n",
      "subject\n",
      "type_of_subject\n",
      "race_known\n",
      "subject_race\n",
      "person_of_color\n",
      "subject_sex\n",
      "lead_actor_actress\n"
     ]
    }
   ],
   "source": [
    "for key in movie:\n",
    "    print(key)"
   ]
  },
  {
   "cell_type": "markdown",
   "metadata": {},
   "source": [
    "Print out all the \"values\" in the dictionary `movie`"
   ]
  },
  {
   "cell_type": "code",
   "execution_count": 5,
   "metadata": {},
   "outputs": [
    {
     "name": "stdout",
     "output_type": "stream",
     "text": [
      "Selma\n",
      "http://www.imdb.com/title/tt1020072/\n",
      "US/UK\n",
      "2014\n",
      "$52.1M\n",
      "Ava DuVernay\n",
      "1\n",
      "Martin Luther King, Jr\n",
      "Activist\n",
      "Known\n",
      "African American\n",
      "1\n",
      "Male\n",
      "David Oyelowo\n"
     ]
    }
   ],
   "source": [
    "for value in movie.values():\n",
    "    print(value)\n",
    "    "
   ]
  },
  {
   "cell_type": "markdown",
   "metadata": {},
   "source": [
    "Access the value for the key \"director\""
   ]
  },
  {
   "cell_type": "code",
   "execution_count": 6,
   "metadata": {},
   "outputs": [
    {
     "name": "stdout",
     "output_type": "stream",
     "text": [
      "Ava DuVernay\n"
     ]
    }
   ],
   "source": [
    "movdirector_value = movie['director']\n",
    "print(movdirector_value)"
   ]
  },
  {
   "cell_type": "markdown",
   "metadata": {},
   "source": [
    "## Exercise 2"
   ]
  },
  {
   "cell_type": "markdown",
   "metadata": {},
   "source": [
    "By using the Python library called `pandas`, we can read in the entire \"biopics.csv\" data from the *538* project and make it into a list of dictionaries.\n",
    "\n",
    "Don't worry about the `pandas` code at this point. We will get to it in a couple of weeks."
   ]
  },
  {
   "cell_type": "code",
   "execution_count": 11,
   "metadata": {},
   "outputs": [
    {
     "ename": "ModuleNotFoundError",
     "evalue": "No module named 'pandas'",
     "output_type": "error",
     "traceback": [
      "\u001b[0;31m---------------------------------------------------------------------------\u001b[0m",
      "\u001b[0;31mModuleNotFoundError\u001b[0m                       Traceback (most recent call last)",
      "\u001b[1;32m/Users/allie/Downloads/Writing and digital media/3844f23-writing-digital-media/book/02-Intro-to-Python/10-Dictionaries.ipynb Cell 59\u001b[0m line \u001b[0;36m1\n\u001b[0;32m----> <a href='vscode-notebook-cell:/Users/allie/Downloads/Writing%20and%20digital%20media/3844f23-writing-digital-media/book/02-Intro-to-Python/10-Dictionaries.ipynb#Y111sZmlsZQ%3D%3D?line=0'>1</a>\u001b[0m \u001b[39mimport\u001b[39;00m \u001b[39mpandas\u001b[39;00m \u001b[39mas\u001b[39;00m \u001b[39mpd\u001b[39;00m\n\u001b[1;32m      <a href='vscode-notebook-cell:/Users/allie/Downloads/Writing%20and%20digital%20media/3844f23-writing-digital-media/book/02-Intro-to-Python/10-Dictionaries.ipynb#Y111sZmlsZQ%3D%3D?line=1'>2</a>\u001b[0m biopics_df \u001b[39m=\u001b[39m pd\u001b[39m.\u001b[39mread_csv(\u001b[39m'\u001b[39m\u001b[39mbiopics.csv\u001b[39m\u001b[39m'\u001b[39m, encoding\u001b[39m=\u001b[39m\u001b[39m'\u001b[39m\u001b[39mutf-8\u001b[39m\u001b[39m'\u001b[39m)\n\u001b[1;32m      <a href='vscode-notebook-cell:/Users/allie/Downloads/Writing%20and%20digital%20media/3844f23-writing-digital-media/book/02-Intro-to-Python/10-Dictionaries.ipynb#Y111sZmlsZQ%3D%3D?line=2'>3</a>\u001b[0m biopics_list \u001b[39m=\u001b[39m biopics_df\u001b[39m.\u001b[39mto_dict(\u001b[39m'\u001b[39m\u001b[39mrecords\u001b[39m\u001b[39m'\u001b[39m)\n",
      "\u001b[0;31mModuleNotFoundError\u001b[0m: No module named 'pandas'"
     ]
    }
   ],
   "source": [
    "import pandas as pd\n",
    "biopics_df = pd.read_csv('biopics.csv', encoding='utf-8')\n",
    "biopics_list = biopics_df.to_dict('records')"
   ]
  },
  {
   "cell_type": "code",
   "execution_count": 5,
   "metadata": {},
   "outputs": [
    {
     "ename": "NameError",
     "evalue": "name 'biopics_list' is not defined",
     "output_type": "error",
     "traceback": [
      "\u001b[0;31m---------------------------------------------------------------------------\u001b[0m",
      "\u001b[0;31mNameError\u001b[0m                                 Traceback (most recent call last)",
      "\u001b[1;32m/Users/allie/Downloads/Writing and digital media/3844f23-writing-digital-media/book/02-Intro-to-Python/10-Dictionaries.ipynb Cell 60\u001b[0m line \u001b[0;36m1\n\u001b[0;32m----> <a href='vscode-notebook-cell:/Users/allie/Downloads/Writing%20and%20digital%20media/3844f23-writing-digital-media/book/02-Intro-to-Python/10-Dictionaries.ipynb#Y112sZmlsZQ%3D%3D?line=0'>1</a>\u001b[0m biopics_list\n",
      "\u001b[0;31mNameError\u001b[0m: name 'biopics_list' is not defined"
     ]
    }
   ],
   "source": [
    "biopics_list"
   ]
  },
  {
   "cell_type": "code",
   "execution_count": 18,
   "metadata": {},
   "outputs": [
    {
     "ename": "NameError",
     "evalue": "name 'biopics_list' is not defined",
     "output_type": "error",
     "traceback": [
      "\u001b[0;31m---------------------------------------------------------------------------\u001b[0m",
      "\u001b[0;31mNameError\u001b[0m                                 Traceback (most recent call last)",
      "\u001b[1;32m/Users/allie/Downloads/Writing and digital media/3844f23-writing-digital-media/book/02-Intro-to-Python/10-Dictionaries.ipynb Cell 60\u001b[0m line \u001b[0;36m1\n\u001b[0;32m----> <a href='vscode-notebook-cell:/Users/allie/Downloads/Writing%20and%20digital%20media/3844f23-writing-digital-media/book/02-Intro-to-Python/10-Dictionaries.ipynb#Y113sZmlsZQ%3D%3D?line=0'>1</a>\u001b[0m \u001b[39mtype\u001b[39m(biopics_list)\n",
      "\u001b[0;31mNameError\u001b[0m: name 'biopics_list' is not defined"
     ]
    }
   ],
   "source": [
    "type(biopics_list)"
   ]
  },
  {
   "cell_type": "code",
   "execution_count": 4,
   "metadata": {},
   "outputs": [
    {
     "ename": "NameError",
     "evalue": "name 'biopics_list' is not defined",
     "output_type": "error",
     "traceback": [
      "\u001b[0;31m---------------------------------------------------------------------------\u001b[0m",
      "\u001b[0;31mNameError\u001b[0m                                 Traceback (most recent call last)",
      "\u001b[1;32m/Users/allie/Downloads/Writing and digital media/3844f23-writing-digital-media/book/02-Intro-to-Python/10-Dictionaries.ipynb Cell 62\u001b[0m line \u001b[0;36m1\n\u001b[0;32m----> <a href='vscode-notebook-cell:/Users/allie/Downloads/Writing%20and%20digital%20media/3844f23-writing-digital-media/book/02-Intro-to-Python/10-Dictionaries.ipynb#Y114sZmlsZQ%3D%3D?line=0'>1</a>\u001b[0m \u001b[39mtype\u001b[39m(biopics_list[\u001b[39m0\u001b[39m])\n",
      "\u001b[0;31mNameError\u001b[0m: name 'biopics_list' is not defined"
     ]
    }
   ],
   "source": [
    "type(biopics_list[0])"
   ]
  },
  {
   "cell_type": "markdown",
   "metadata": {},
   "source": [
    "Loop through this list of dictionaries (`biopics_list`) and print out the movie title and release year for all the movies that featured an \"African American\" `subject`. Print out the movie *title* and *release year* with a \"//\" in between them."
   ]
  },
  {
   "cell_type": "code",
   "execution_count": 3,
   "metadata": {},
   "outputs": [
    {
     "ename": "NameError",
     "evalue": "name 'biopics_list' is not defined",
     "output_type": "error",
     "traceback": [
      "\u001b[0;31m---------------------------------------------------------------------------\u001b[0m",
      "\u001b[0;31mNameError\u001b[0m                                 Traceback (most recent call last)",
      "\u001b[1;32m/Users/allie/Downloads/Writing and digital media/3844f23-writing-digital-media/book/02-Intro-to-Python/10-Dictionaries.ipynb Cell 64\u001b[0m line \u001b[0;36m1\n\u001b[0;32m----> <a href='vscode-notebook-cell:/Users/allie/Downloads/Writing%20and%20digital%20media/3844f23-writing-digital-media/book/02-Intro-to-Python/10-Dictionaries.ipynb#Y116sZmlsZQ%3D%3D?line=0'>1</a>\u001b[0m \u001b[39mfor\u001b[39;00m movie \u001b[39min\u001b[39;00m biopics_list:\n\u001b[1;32m      <a href='vscode-notebook-cell:/Users/allie/Downloads/Writing%20and%20digital%20media/3844f23-writing-digital-media/book/02-Intro-to-Python/10-Dictionaries.ipynb#Y116sZmlsZQ%3D%3D?line=1'>2</a>\u001b[0m     \u001b[39mif\u001b[39;00m movie[\u001b[39m'\u001b[39m\u001b[39msubject_race\u001b[39m\u001b[39m'\u001b[39m] \u001b[39m==\u001b[39m \u001b[39m'\u001b[39m\u001b[39mAfrican American\u001b[39m\u001b[39m'\u001b[39m:\n\u001b[1;32m      <a href='vscode-notebook-cell:/Users/allie/Downloads/Writing%20and%20digital%20media/3844f23-writing-digital-media/book/02-Intro-to-Python/10-Dictionaries.ipynb#Y116sZmlsZQ%3D%3D?line=2'>3</a>\u001b[0m         \u001b[39mprint\u001b[39m(\u001b[39mf\u001b[39m\u001b[39m\"\u001b[39m\u001b[39m{\u001b[39;00mmovie[\u001b[39m'\u001b[39m\u001b[39mtitle\u001b[39m\u001b[39m'\u001b[39m]\u001b[39m}\u001b[39;00m\u001b[39m // \u001b[39m\u001b[39m{\u001b[39;00mmovie[\u001b[39m'\u001b[39m\u001b[39myear_release\u001b[39m\u001b[39m'\u001b[39m]\u001b[39m}\u001b[39;00m\u001b[39m\"\u001b[39m)\n",
      "\u001b[0;31mNameError\u001b[0m: name 'biopics_list' is not defined"
     ]
    }
   ],
   "source": [
    "for movie in biopics_list:\n",
    "    if movie['subject_race'] == 'African American':\n",
    "        print(f\"{movie['title']} // {movie['year_release']}\")"
   ]
  },
  {
   "cell_type": "markdown",
   "metadata": {},
   "source": [
    "Now, choose a different **\"subject_race\"** and print out all the *titles* and *release years* for those movies. \n",
    "\n",
    "Print out the movie title and release year with a \"//\" in between them.\n",
    "\n",
    "Here's a list of values to consider:\n",
    "\n",
    "- White  \n",
    "- [blank]  \n",
    "- African American  \n",
    "- Multi racial  \n",
    "- Hispanic (Latin American)  \n",
    "- Middle Eastern (White)  \n",
    "- Middle Eastern  \n",
    "- African  \n",
    "- Hispanic (White)  \n",
    "- Hispanic (Latino)  \n",
    "- Asian  \n",
    "- Native American  \n",
    "- Asian American  \n",
    "- Indian  \n",
    "- Caribbean  \n",
    "- Mediterranean  \n",
    "- Eurasian  \n",
    "- Hispanic (Latina)"
   ]
  },
  {
   "cell_type": "code",
   "execution_count": 2,
   "metadata": {},
   "outputs": [
    {
     "ename": "NameError",
     "evalue": "name 'biopics_list' is not defined",
     "output_type": "error",
     "traceback": [
      "\u001b[0;31m---------------------------------------------------------------------------\u001b[0m",
      "\u001b[0;31mNameError\u001b[0m                                 Traceback (most recent call last)",
      "\u001b[1;32m/Users/allie/Downloads/Writing and digital media/3844f23-writing-digital-media/book/02-Intro-to-Python/10-Dictionaries.ipynb Cell 66\u001b[0m line \u001b[0;36m3\n\u001b[1;32m      <a href='vscode-notebook-cell:/Users/allie/Downloads/Writing%20and%20digital%20media/3844f23-writing-digital-media/book/02-Intro-to-Python/10-Dictionaries.ipynb#Y121sZmlsZQ%3D%3D?line=0'>1</a>\u001b[0m chosen_race \u001b[39m=\u001b[39m \u001b[39m'\u001b[39m\u001b[39mAsian\u001b[39m\u001b[39m'\u001b[39m\n\u001b[0;32m----> <a href='vscode-notebook-cell:/Users/allie/Downloads/Writing%20and%20digital%20media/3844f23-writing-digital-media/book/02-Intro-to-Python/10-Dictionaries.ipynb#Y121sZmlsZQ%3D%3D?line=2'>3</a>\u001b[0m \u001b[39mfor\u001b[39;00m movie \u001b[39min\u001b[39;00m biopics_list:\n\u001b[1;32m      <a href='vscode-notebook-cell:/Users/allie/Downloads/Writing%20and%20digital%20media/3844f23-writing-digital-media/book/02-Intro-to-Python/10-Dictionaries.ipynb#Y121sZmlsZQ%3D%3D?line=3'>4</a>\u001b[0m     \u001b[39mif\u001b[39;00m movie[\u001b[39m'\u001b[39m\u001b[39msubject_race\u001b[39m\u001b[39m'\u001b[39m] \u001b[39m==\u001b[39m chosen_race:\n\u001b[1;32m      <a href='vscode-notebook-cell:/Users/allie/Downloads/Writing%20and%20digital%20media/3844f23-writing-digital-media/book/02-Intro-to-Python/10-Dictionaries.ipynb#Y121sZmlsZQ%3D%3D?line=4'>5</a>\u001b[0m         \u001b[39mprint\u001b[39m(\u001b[39mf\u001b[39m\u001b[39m\"\u001b[39m\u001b[39m{\u001b[39;00mmovie[\u001b[39m'\u001b[39m\u001b[39mtitle\u001b[39m\u001b[39m'\u001b[39m]\u001b[39m}\u001b[39;00m\u001b[39m // \u001b[39m\u001b[39m{\u001b[39;00mmovie[\u001b[39m'\u001b[39m\u001b[39myear_release\u001b[39m\u001b[39m'\u001b[39m]\u001b[39m}\u001b[39;00m\u001b[39m\"\u001b[39m)\n",
      "\u001b[0;31mNameError\u001b[0m: name 'biopics_list' is not defined"
     ]
    }
   ],
   "source": [
    "chosen_race = 'Asian'\n",
    "\n",
    "for movie in biopics_list:\n",
    "    if movie['subject_race'] == chosen_race:\n",
    "        print(f\"{movie['title']} // {movie['year_release']}\")"
   ]
  },
  {
   "cell_type": "markdown",
   "metadata": {},
   "source": [
    "## Exercise 3"
   ]
  },
  {
   "cell_type": "markdown",
   "metadata": {},
   "source": [
    "The Eviction Lab makes its data [available for download here](https://data-downloads.evictionlab.org/). By using the Python library called pandas, we can read in eviction data about cities in the state of New York and make it into a list of dictionaries.\n",
    "\n",
    "Don't worry about the pandas code at this point. We will get to it in a couple of weeks."
   ]
  },
  {
   "cell_type": "code",
   "execution_count": 1,
   "metadata": {},
   "outputs": [
    {
     "ename": "ModuleNotFoundError",
     "evalue": "No module named 'pandas'",
     "output_type": "error",
     "traceback": [
      "\u001b[0;31m---------------------------------------------------------------------------\u001b[0m",
      "\u001b[0;31mModuleNotFoundError\u001b[0m                       Traceback (most recent call last)",
      "\u001b[1;32m/Users/allie/Downloads/Writing and digital media/3844f23-writing-digital-media/book/02-Intro-to-Python/10-Dictionaries.ipynb Cell 69\u001b[0m line \u001b[0;36m1\n\u001b[0;32m----> <a href='vscode-notebook-cell:/Users/allie/Downloads/Writing%20and%20digital%20media/3844f23-writing-digital-media/book/02-Intro-to-Python/10-Dictionaries.ipynb#Y124sZmlsZQ%3D%3D?line=0'>1</a>\u001b[0m \u001b[39mimport\u001b[39;00m \u001b[39mpandas\u001b[39;00m \u001b[39mas\u001b[39;00m \u001b[39mpd\u001b[39;00m\n\u001b[1;32m      <a href='vscode-notebook-cell:/Users/allie/Downloads/Writing%20and%20digital%20media/3844f23-writing-digital-media/book/02-Intro-to-Python/10-Dictionaries.ipynb#Y124sZmlsZQ%3D%3D?line=1'>2</a>\u001b[0m cities_df \u001b[39m=\u001b[39m pd\u001b[39m.\u001b[39mread_csv(\u001b[39m'\u001b[39m\u001b[39m./../data/02-python/ny_cities_eviction.csv\u001b[39m\u001b[39m'\u001b[39m, encoding\u001b[39m=\u001b[39m\u001b[39m'\u001b[39m\u001b[39mutf-8\u001b[39m\u001b[39m'\u001b[39m)\n\u001b[1;32m      <a href='vscode-notebook-cell:/Users/allie/Downloads/Writing%20and%20digital%20media/3844f23-writing-digital-media/book/02-Intro-to-Python/10-Dictionaries.ipynb#Y124sZmlsZQ%3D%3D?line=2'>3</a>\u001b[0m cities_list \u001b[39m=\u001b[39m cities_df\u001b[39m.\u001b[39mto_dict(\u001b[39m'\u001b[39m\u001b[39mrecords\u001b[39m\u001b[39m'\u001b[39m)\n",
      "\u001b[0;31mModuleNotFoundError\u001b[0m: No module named 'pandas'"
     ]
    }
   ],
   "source": [
    "import pandas as pd\n",
    "cities_df = pd.read_csv('./../data/02-python/ny_cities_eviction.csv', encoding='utf-8')\n",
    "cities_list = cities_df.to_dict('records')\n",
    "cities_list"
   ]
  },
  {
   "cell_type": "markdown",
   "metadata": {},
   "source": []
  },
  {
   "cell_type": "code",
   "execution_count": 1,
   "metadata": {},
   "outputs": [
    {
     "ename": "NameError",
     "evalue": "name 'cities_df' is not defined",
     "output_type": "error",
     "traceback": [
      "\u001b[0;31m---------------------------------------------------------------------------\u001b[0m",
      "\u001b[0;31mNameError\u001b[0m                                 Traceback (most recent call last)",
      "\u001b[1;32m/Users/allie/Downloads/Writing and digital media/3844f23-writing-digital-media/book/02-Intro-to-Python/10-Dictionaries.ipynb Cell 70\u001b[0m line \u001b[0;36m1\n\u001b[0;32m----> <a href='vscode-notebook-cell:/Users/allie/Downloads/Writing%20and%20digital%20media/3844f23-writing-digital-media/book/02-Intro-to-Python/10-Dictionaries.ipynb#Y126sZmlsZQ%3D%3D?line=0'>1</a>\u001b[0m \u001b[39mfor\u001b[39;00m data \u001b[39min\u001b[39;00m cities_df:\n\u001b[1;32m      <a href='vscode-notebook-cell:/Users/allie/Downloads/Writing%20and%20digital%20media/3844f23-writing-digital-media/book/02-Intro-to-Python/10-Dictionaries.ipynb#Y126sZmlsZQ%3D%3D?line=1'>2</a>\u001b[0m     \u001b[39mif\u001b[39;00m data[\u001b[39m'\u001b[39m\u001b[39mname\u001b[39m\u001b[39m'\u001b[39m] \u001b[39m==\u001b[39m cities_list:\n\u001b[1;32m      <a href='vscode-notebook-cell:/Users/allie/Downloads/Writing%20and%20digital%20media/3844f23-writing-digital-media/book/02-Intro-to-Python/10-Dictionaries.ipynb#Y126sZmlsZQ%3D%3D?line=2'>3</a>\u001b[0m         year \u001b[39m=\u001b[39m data[\u001b[39m'\u001b[39m\u001b[39myear\u001b[39m\u001b[39m'\u001b[39m]\n",
      "\u001b[0;31mNameError\u001b[0m: name 'cities_df' is not defined"
     ]
    }
   ],
   "source": [
    "for data in cities_df:\n",
    "    if data['name'] == cities_list:\n",
    "        year = data['year']\n",
    "        evictions = data['evictions']\n",
    "        print(f\"Year: {year}, Number of Evictions: {evictions}\")"
   ]
  }
 ],
 "metadata": {
  "kernelspec": {
   "display_name": "Python 3",
   "language": "python",
   "name": "python3"
  },
  "language_info": {
   "codemirror_mode": {
    "name": "ipython",
    "version": 3
   },
   "file_extension": ".py",
   "mimetype": "text/x-python",
   "name": "python",
   "nbconvert_exporter": "python",
   "pygments_lexer": "ipython3",
   "version": "3.9.6"
  }
 },
 "nbformat": 4,
 "nbformat_minor": 4
}
